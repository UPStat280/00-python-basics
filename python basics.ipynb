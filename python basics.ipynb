{
 "cells": [
  {
   "cell_type": "markdown",
   "metadata": {},
   "source": [
    "HR ANALYTICS\n",
    "===\n",
    "A company which is active in Big Data and Data Science wants to hire data scientists conduct a training program for aspirants. Many people signed up for their training and the company wants to know which of these candidates really wants to work for them after training or are looking for a new employment because it helps to reduce the cost and time including the quality of training or planning the courses and categorization of candidates. Information related to demographics, education, experience from candidates are from the signup and enrollment data."
   ]
  },
  {
   "cell_type": "markdown",
   "metadata": {},
   "source": [
    "# Libraries"
   ]
  },
  {
   "cell_type": "code",
   "execution_count": 1,
   "metadata": {},
   "outputs": [],
   "source": [
    "# removes warnings\n",
    "def warn(*args, **kwargs):\n",
    "    pass\n",
    "import warnings\n",
    "warnings.warn = warn\n",
    "\n",
    "# import pandas to be able to use dataframes\n",
    "import pandas as pd\n",
    "\n",
    "# customize pandas display options\n",
    "pd.set_option('display.max_rows', None)\n",
    "pd.set_option('display.max_columns', 500)\n",
    "pd.set_option('display.width', 1000)\n",
    "\n",
    "\n",
    "# import plotting library\n",
    "import matplotlib.pyplot as plt\n",
    "import matplotlib.cm as cm\n",
    "import seaborn as sn\n",
    "\n",
    "# allow inline plotting on notebook cells\n",
    "%matplotlib inline\n",
    "\n",
    "# gives us access to numpy functions\n",
    "import numpy as np\n",
    "\n",
    "#from scipy.stats import chisquare\n",
    "\n",
    "# allows us to implement a train test split strategy\n",
    "from sklearn.model_selection import train_test_split\n",
    "\n",
    "# access to the logistic regression class of Sklearn\n",
    "from sklearn.linear_model import LogisticRegression\n",
    "\n",
    "# model metrics\n",
    "from sklearn.metrics import accuracy_score\n",
    "from sklearn.metrics import confusion_matrix\n",
    "from sklearn.metrics import precision_score\n",
    "from sklearn.metrics import recall_score\n",
    "from sklearn.metrics import plot_confusion_matrix\n",
    "from sklearn.metrics import roc_curve,roc_auc_score\n",
    "\n",
    "# recursive feature elimination, helps in prioritizing features\n",
    "from sklearn.feature_selection import RFE\n",
    "\n",
    "# model persistence\n",
    "from joblib import dump, load"
   ]
  },
  {
   "cell_type": "markdown",
   "metadata": {},
   "source": [
    "# Exploration"
   ]
  },
  {
   "cell_type": "code",
   "execution_count": 2,
   "metadata": {},
   "outputs": [],
   "source": [
    "# load training data\n",
    "training_df = pd.read_csv(\"data/aug_train.csv\")"
   ]
  },
  {
   "cell_type": "code",
   "execution_count": 3,
   "metadata": {},
   "outputs": [
    {
     "data": {
      "text/html": [
       "<div>\n",
       "<style scoped>\n",
       "    .dataframe tbody tr th:only-of-type {\n",
       "        vertical-align: middle;\n",
       "    }\n",
       "\n",
       "    .dataframe tbody tr th {\n",
       "        vertical-align: top;\n",
       "    }\n",
       "\n",
       "    .dataframe thead th {\n",
       "        text-align: right;\n",
       "    }\n",
       "</style>\n",
       "<table border=\"1\" class=\"dataframe\">\n",
       "  <thead>\n",
       "    <tr style=\"text-align: right;\">\n",
       "      <th></th>\n",
       "      <th>enrollee_id</th>\n",
       "      <th>city</th>\n",
       "      <th>city_development_index</th>\n",
       "      <th>gender</th>\n",
       "      <th>relevent_experience</th>\n",
       "      <th>enrolled_university</th>\n",
       "      <th>education_level</th>\n",
       "      <th>major_discipline</th>\n",
       "      <th>experience</th>\n",
       "      <th>company_size</th>\n",
       "      <th>company_type</th>\n",
       "      <th>last_new_job</th>\n",
       "      <th>training_hours</th>\n",
       "      <th>target</th>\n",
       "    </tr>\n",
       "  </thead>\n",
       "  <tbody>\n",
       "    <tr>\n",
       "      <th>0</th>\n",
       "      <td>8949</td>\n",
       "      <td>city_103</td>\n",
       "      <td>0.920</td>\n",
       "      <td>Male</td>\n",
       "      <td>Has relevent experience</td>\n",
       "      <td>no_enrollment</td>\n",
       "      <td>Graduate</td>\n",
       "      <td>STEM</td>\n",
       "      <td>&gt;20</td>\n",
       "      <td>NaN</td>\n",
       "      <td>NaN</td>\n",
       "      <td>1</td>\n",
       "      <td>36</td>\n",
       "      <td>1.0</td>\n",
       "    </tr>\n",
       "    <tr>\n",
       "      <th>1</th>\n",
       "      <td>29725</td>\n",
       "      <td>city_40</td>\n",
       "      <td>0.776</td>\n",
       "      <td>Male</td>\n",
       "      <td>No relevent experience</td>\n",
       "      <td>no_enrollment</td>\n",
       "      <td>Graduate</td>\n",
       "      <td>STEM</td>\n",
       "      <td>15</td>\n",
       "      <td>50-99</td>\n",
       "      <td>Pvt Ltd</td>\n",
       "      <td>&gt;4</td>\n",
       "      <td>47</td>\n",
       "      <td>0.0</td>\n",
       "    </tr>\n",
       "    <tr>\n",
       "      <th>2</th>\n",
       "      <td>11561</td>\n",
       "      <td>city_21</td>\n",
       "      <td>0.624</td>\n",
       "      <td>NaN</td>\n",
       "      <td>No relevent experience</td>\n",
       "      <td>Full time course</td>\n",
       "      <td>Graduate</td>\n",
       "      <td>STEM</td>\n",
       "      <td>5</td>\n",
       "      <td>NaN</td>\n",
       "      <td>NaN</td>\n",
       "      <td>never</td>\n",
       "      <td>83</td>\n",
       "      <td>0.0</td>\n",
       "    </tr>\n",
       "    <tr>\n",
       "      <th>3</th>\n",
       "      <td>33241</td>\n",
       "      <td>city_115</td>\n",
       "      <td>0.789</td>\n",
       "      <td>NaN</td>\n",
       "      <td>No relevent experience</td>\n",
       "      <td>NaN</td>\n",
       "      <td>Graduate</td>\n",
       "      <td>Business Degree</td>\n",
       "      <td>&lt;1</td>\n",
       "      <td>NaN</td>\n",
       "      <td>Pvt Ltd</td>\n",
       "      <td>never</td>\n",
       "      <td>52</td>\n",
       "      <td>1.0</td>\n",
       "    </tr>\n",
       "    <tr>\n",
       "      <th>4</th>\n",
       "      <td>666</td>\n",
       "      <td>city_162</td>\n",
       "      <td>0.767</td>\n",
       "      <td>Male</td>\n",
       "      <td>Has relevent experience</td>\n",
       "      <td>no_enrollment</td>\n",
       "      <td>Masters</td>\n",
       "      <td>STEM</td>\n",
       "      <td>&gt;20</td>\n",
       "      <td>50-99</td>\n",
       "      <td>Funded Startup</td>\n",
       "      <td>4</td>\n",
       "      <td>8</td>\n",
       "      <td>0.0</td>\n",
       "    </tr>\n",
       "  </tbody>\n",
       "</table>\n",
       "</div>"
      ],
      "text/plain": [
       "   enrollee_id      city  city_development_index gender      relevent_experience enrolled_university education_level major_discipline experience company_size    company_type last_new_job  training_hours  target\n",
       "0         8949  city_103                   0.920   Male  Has relevent experience       no_enrollment        Graduate             STEM        >20          NaN             NaN            1              36     1.0\n",
       "1        29725   city_40                   0.776   Male   No relevent experience       no_enrollment        Graduate             STEM         15        50-99         Pvt Ltd           >4              47     0.0\n",
       "2        11561   city_21                   0.624    NaN   No relevent experience    Full time course        Graduate             STEM          5          NaN             NaN        never              83     0.0\n",
       "3        33241  city_115                   0.789    NaN   No relevent experience                 NaN        Graduate  Business Degree         <1          NaN         Pvt Ltd        never              52     1.0\n",
       "4          666  city_162                   0.767   Male  Has relevent experience       no_enrollment         Masters             STEM        >20        50-99  Funded Startup            4               8     0.0"
      ]
     },
     "execution_count": 3,
     "metadata": {},
     "output_type": "execute_result"
    }
   ],
   "source": [
    "# let's look at some sample files\n",
    "training_df.head()"
   ]
  },
  {
   "cell_type": "markdown",
   "metadata": {},
   "source": [
    "Features\n",
    "===\n",
    "* enrollee_id : Unique ID for enrollee\n",
    "* city: City code\n",
    "* citydevelopmentindex: Developement index of the city (scaled)\n",
    "* gender: Gender of enrolee\n",
    "* relevent_experience: Relevent experience of enrolee\n",
    "* enrolled_university: Type of University course enrolled if any\n",
    "* education_level: Education level of enrolee\n",
    "* major_discipline :Education major discipline of enrolee\n",
    "* experience: Enrolee total experience in years\n",
    "* company_size: No of employees in current employer's company\n",
    "* company_type : Type of current employer\n",
    "* lastnewjob: Difference in years between previous job and current job\n",
    "* training_hours: training hours completed\n",
    "* target: 0 – Not looking for job change, 1 – Looking for a job change"
   ]
  },
  {
   "cell_type": "code",
   "execution_count": 4,
   "metadata": {},
   "outputs": [],
   "source": [
    "# Let's convert enrollee_id and target to text as these are not really numerical in nature\n",
    "\n",
    "training_df['enrollee_id'] = training_df['enrollee_id'].astype(str) \n",
    "training_df['target'] = training_df['target'].astype(str) "
   ]
  },
  {
   "cell_type": "code",
   "execution_count": 5,
   "metadata": {},
   "outputs": [
    {
     "data": {
      "text/html": [
       "<div>\n",
       "<style scoped>\n",
       "    .dataframe tbody tr th:only-of-type {\n",
       "        vertical-align: middle;\n",
       "    }\n",
       "\n",
       "    .dataframe tbody tr th {\n",
       "        vertical-align: top;\n",
       "    }\n",
       "\n",
       "    .dataframe thead th {\n",
       "        text-align: right;\n",
       "    }\n",
       "</style>\n",
       "<table border=\"1\" class=\"dataframe\">\n",
       "  <thead>\n",
       "    <tr style=\"text-align: right;\">\n",
       "      <th></th>\n",
       "      <th>sample_data</th>\n",
       "      <th>data_type</th>\n",
       "    </tr>\n",
       "  </thead>\n",
       "  <tbody>\n",
       "    <tr>\n",
       "      <th>enrollee_id</th>\n",
       "      <td>666</td>\n",
       "      <td>object</td>\n",
       "    </tr>\n",
       "    <tr>\n",
       "      <th>city</th>\n",
       "      <td>city_162</td>\n",
       "      <td>object</td>\n",
       "    </tr>\n",
       "    <tr>\n",
       "      <th>city_development_index</th>\n",
       "      <td>0.767</td>\n",
       "      <td>float64</td>\n",
       "    </tr>\n",
       "    <tr>\n",
       "      <th>gender</th>\n",
       "      <td>Male</td>\n",
       "      <td>object</td>\n",
       "    </tr>\n",
       "    <tr>\n",
       "      <th>relevent_experience</th>\n",
       "      <td>Has relevent experience</td>\n",
       "      <td>object</td>\n",
       "    </tr>\n",
       "    <tr>\n",
       "      <th>enrolled_university</th>\n",
       "      <td>no_enrollment</td>\n",
       "      <td>object</td>\n",
       "    </tr>\n",
       "    <tr>\n",
       "      <th>education_level</th>\n",
       "      <td>Masters</td>\n",
       "      <td>object</td>\n",
       "    </tr>\n",
       "    <tr>\n",
       "      <th>major_discipline</th>\n",
       "      <td>STEM</td>\n",
       "      <td>object</td>\n",
       "    </tr>\n",
       "    <tr>\n",
       "      <th>experience</th>\n",
       "      <td>&gt;20</td>\n",
       "      <td>object</td>\n",
       "    </tr>\n",
       "    <tr>\n",
       "      <th>company_size</th>\n",
       "      <td>50-99</td>\n",
       "      <td>object</td>\n",
       "    </tr>\n",
       "    <tr>\n",
       "      <th>company_type</th>\n",
       "      <td>Funded Startup</td>\n",
       "      <td>object</td>\n",
       "    </tr>\n",
       "    <tr>\n",
       "      <th>last_new_job</th>\n",
       "      <td>4</td>\n",
       "      <td>object</td>\n",
       "    </tr>\n",
       "    <tr>\n",
       "      <th>training_hours</th>\n",
       "      <td>8</td>\n",
       "      <td>int64</td>\n",
       "    </tr>\n",
       "    <tr>\n",
       "      <th>target</th>\n",
       "      <td>0.0</td>\n",
       "      <td>object</td>\n",
       "    </tr>\n",
       "  </tbody>\n",
       "</table>\n",
       "</div>"
      ],
      "text/plain": [
       "                                    sample_data data_type\n",
       "enrollee_id                                 666    object\n",
       "city                                   city_162    object\n",
       "city_development_index                    0.767   float64\n",
       "gender                                     Male    object\n",
       "relevent_experience     Has relevent experience    object\n",
       "enrolled_university               no_enrollment    object\n",
       "education_level                         Masters    object\n",
       "major_discipline                           STEM    object\n",
       "experience                                  >20    object\n",
       "company_size                              50-99    object\n",
       "company_type                     Funded Startup    object\n",
       "last_new_job                                  4    object\n",
       "training_hours                                8     int64\n",
       "target                                      0.0    object"
      ]
     },
     "execution_count": 5,
     "metadata": {},
     "output_type": "execute_result"
    }
   ],
   "source": [
    "# Let's look at some sample data and see how it aligns to the data dictionary\n",
    "tmp_df = training_df[training_df['company_type'] =='Funded Startup'].head(1).T\n",
    "tmp_df.columns = [ 'sample_data']\n",
    "tmp_df['data_type'] = training_df.dtypes\n",
    "\n",
    "\n",
    "# The Pandas read_csv command tries to estimate the data type of a feature/column by analyzing the data as it is being read.\n",
    "# This is then set upon creation of the dataframe. you can check the Pandas documentation if you would like to manually set\n",
    "# the data type of a column ie. force change a numberal to string\n",
    "tmp_df"
   ]
  },
  {
   "cell_type": "code",
   "execution_count": 6,
   "metadata": {},
   "outputs": [
    {
     "data": {
      "text/html": [
       "<div>\n",
       "<style scoped>\n",
       "    .dataframe tbody tr th:only-of-type {\n",
       "        vertical-align: middle;\n",
       "    }\n",
       "\n",
       "    .dataframe tbody tr th {\n",
       "        vertical-align: top;\n",
       "    }\n",
       "\n",
       "    .dataframe thead th {\n",
       "        text-align: right;\n",
       "    }\n",
       "</style>\n",
       "<table border=\"1\" class=\"dataframe\">\n",
       "  <thead>\n",
       "    <tr style=\"text-align: right;\">\n",
       "      <th></th>\n",
       "      <th>enrollee_id</th>\n",
       "      <th>city</th>\n",
       "      <th>city_development_index</th>\n",
       "      <th>gender</th>\n",
       "      <th>relevent_experience</th>\n",
       "      <th>enrolled_university</th>\n",
       "      <th>education_level</th>\n",
       "      <th>major_discipline</th>\n",
       "      <th>experience</th>\n",
       "      <th>company_size</th>\n",
       "      <th>company_type</th>\n",
       "      <th>last_new_job</th>\n",
       "      <th>training_hours</th>\n",
       "      <th>target</th>\n",
       "    </tr>\n",
       "  </thead>\n",
       "  <tbody>\n",
       "    <tr>\n",
       "      <th>count</th>\n",
       "      <td>19158</td>\n",
       "      <td>19158</td>\n",
       "      <td>19158.000000</td>\n",
       "      <td>14650</td>\n",
       "      <td>19158</td>\n",
       "      <td>18772</td>\n",
       "      <td>18698</td>\n",
       "      <td>16345</td>\n",
       "      <td>19093</td>\n",
       "      <td>13220</td>\n",
       "      <td>13018</td>\n",
       "      <td>18735</td>\n",
       "      <td>19158.000000</td>\n",
       "      <td>19158</td>\n",
       "    </tr>\n",
       "    <tr>\n",
       "      <th>unique</th>\n",
       "      <td>19158</td>\n",
       "      <td>123</td>\n",
       "      <td>NaN</td>\n",
       "      <td>3</td>\n",
       "      <td>2</td>\n",
       "      <td>3</td>\n",
       "      <td>5</td>\n",
       "      <td>6</td>\n",
       "      <td>22</td>\n",
       "      <td>8</td>\n",
       "      <td>6</td>\n",
       "      <td>6</td>\n",
       "      <td>NaN</td>\n",
       "      <td>2</td>\n",
       "    </tr>\n",
       "    <tr>\n",
       "      <th>top</th>\n",
       "      <td>13503</td>\n",
       "      <td>city_103</td>\n",
       "      <td>NaN</td>\n",
       "      <td>Male</td>\n",
       "      <td>Has relevent experience</td>\n",
       "      <td>no_enrollment</td>\n",
       "      <td>Graduate</td>\n",
       "      <td>STEM</td>\n",
       "      <td>&gt;20</td>\n",
       "      <td>50-99</td>\n",
       "      <td>Pvt Ltd</td>\n",
       "      <td>1</td>\n",
       "      <td>NaN</td>\n",
       "      <td>0.0</td>\n",
       "    </tr>\n",
       "    <tr>\n",
       "      <th>freq</th>\n",
       "      <td>1</td>\n",
       "      <td>4355</td>\n",
       "      <td>NaN</td>\n",
       "      <td>13221</td>\n",
       "      <td>13792</td>\n",
       "      <td>13817</td>\n",
       "      <td>11598</td>\n",
       "      <td>14492</td>\n",
       "      <td>3286</td>\n",
       "      <td>3083</td>\n",
       "      <td>9817</td>\n",
       "      <td>8040</td>\n",
       "      <td>NaN</td>\n",
       "      <td>14381</td>\n",
       "    </tr>\n",
       "    <tr>\n",
       "      <th>mean</th>\n",
       "      <td>NaN</td>\n",
       "      <td>NaN</td>\n",
       "      <td>0.828848</td>\n",
       "      <td>NaN</td>\n",
       "      <td>NaN</td>\n",
       "      <td>NaN</td>\n",
       "      <td>NaN</td>\n",
       "      <td>NaN</td>\n",
       "      <td>NaN</td>\n",
       "      <td>NaN</td>\n",
       "      <td>NaN</td>\n",
       "      <td>NaN</td>\n",
       "      <td>65.366896</td>\n",
       "      <td>NaN</td>\n",
       "    </tr>\n",
       "    <tr>\n",
       "      <th>std</th>\n",
       "      <td>NaN</td>\n",
       "      <td>NaN</td>\n",
       "      <td>0.123362</td>\n",
       "      <td>NaN</td>\n",
       "      <td>NaN</td>\n",
       "      <td>NaN</td>\n",
       "      <td>NaN</td>\n",
       "      <td>NaN</td>\n",
       "      <td>NaN</td>\n",
       "      <td>NaN</td>\n",
       "      <td>NaN</td>\n",
       "      <td>NaN</td>\n",
       "      <td>60.058462</td>\n",
       "      <td>NaN</td>\n",
       "    </tr>\n",
       "    <tr>\n",
       "      <th>min</th>\n",
       "      <td>NaN</td>\n",
       "      <td>NaN</td>\n",
       "      <td>0.448000</td>\n",
       "      <td>NaN</td>\n",
       "      <td>NaN</td>\n",
       "      <td>NaN</td>\n",
       "      <td>NaN</td>\n",
       "      <td>NaN</td>\n",
       "      <td>NaN</td>\n",
       "      <td>NaN</td>\n",
       "      <td>NaN</td>\n",
       "      <td>NaN</td>\n",
       "      <td>1.000000</td>\n",
       "      <td>NaN</td>\n",
       "    </tr>\n",
       "    <tr>\n",
       "      <th>25%</th>\n",
       "      <td>NaN</td>\n",
       "      <td>NaN</td>\n",
       "      <td>0.740000</td>\n",
       "      <td>NaN</td>\n",
       "      <td>NaN</td>\n",
       "      <td>NaN</td>\n",
       "      <td>NaN</td>\n",
       "      <td>NaN</td>\n",
       "      <td>NaN</td>\n",
       "      <td>NaN</td>\n",
       "      <td>NaN</td>\n",
       "      <td>NaN</td>\n",
       "      <td>23.000000</td>\n",
       "      <td>NaN</td>\n",
       "    </tr>\n",
       "    <tr>\n",
       "      <th>50%</th>\n",
       "      <td>NaN</td>\n",
       "      <td>NaN</td>\n",
       "      <td>0.903000</td>\n",
       "      <td>NaN</td>\n",
       "      <td>NaN</td>\n",
       "      <td>NaN</td>\n",
       "      <td>NaN</td>\n",
       "      <td>NaN</td>\n",
       "      <td>NaN</td>\n",
       "      <td>NaN</td>\n",
       "      <td>NaN</td>\n",
       "      <td>NaN</td>\n",
       "      <td>47.000000</td>\n",
       "      <td>NaN</td>\n",
       "    </tr>\n",
       "    <tr>\n",
       "      <th>75%</th>\n",
       "      <td>NaN</td>\n",
       "      <td>NaN</td>\n",
       "      <td>0.920000</td>\n",
       "      <td>NaN</td>\n",
       "      <td>NaN</td>\n",
       "      <td>NaN</td>\n",
       "      <td>NaN</td>\n",
       "      <td>NaN</td>\n",
       "      <td>NaN</td>\n",
       "      <td>NaN</td>\n",
       "      <td>NaN</td>\n",
       "      <td>NaN</td>\n",
       "      <td>88.000000</td>\n",
       "      <td>NaN</td>\n",
       "    </tr>\n",
       "    <tr>\n",
       "      <th>max</th>\n",
       "      <td>NaN</td>\n",
       "      <td>NaN</td>\n",
       "      <td>0.949000</td>\n",
       "      <td>NaN</td>\n",
       "      <td>NaN</td>\n",
       "      <td>NaN</td>\n",
       "      <td>NaN</td>\n",
       "      <td>NaN</td>\n",
       "      <td>NaN</td>\n",
       "      <td>NaN</td>\n",
       "      <td>NaN</td>\n",
       "      <td>NaN</td>\n",
       "      <td>336.000000</td>\n",
       "      <td>NaN</td>\n",
       "    </tr>\n",
       "  </tbody>\n",
       "</table>\n",
       "</div>"
      ],
      "text/plain": [
       "       enrollee_id      city  city_development_index gender      relevent_experience enrolled_university education_level major_discipline experience company_size company_type last_new_job  training_hours target\n",
       "count        19158     19158            19158.000000  14650                    19158               18772           18698            16345      19093        13220        13018        18735    19158.000000  19158\n",
       "unique       19158       123                     NaN      3                        2                   3               5                6         22            8            6            6             NaN      2\n",
       "top          13503  city_103                     NaN   Male  Has relevent experience       no_enrollment        Graduate             STEM        >20        50-99      Pvt Ltd            1             NaN    0.0\n",
       "freq             1      4355                     NaN  13221                    13792               13817           11598            14492       3286         3083         9817         8040             NaN  14381\n",
       "mean           NaN       NaN                0.828848    NaN                      NaN                 NaN             NaN              NaN        NaN          NaN          NaN          NaN       65.366896    NaN\n",
       "std            NaN       NaN                0.123362    NaN                      NaN                 NaN             NaN              NaN        NaN          NaN          NaN          NaN       60.058462    NaN\n",
       "min            NaN       NaN                0.448000    NaN                      NaN                 NaN             NaN              NaN        NaN          NaN          NaN          NaN        1.000000    NaN\n",
       "25%            NaN       NaN                0.740000    NaN                      NaN                 NaN             NaN              NaN        NaN          NaN          NaN          NaN       23.000000    NaN\n",
       "50%            NaN       NaN                0.903000    NaN                      NaN                 NaN             NaN              NaN        NaN          NaN          NaN          NaN       47.000000    NaN\n",
       "75%            NaN       NaN                0.920000    NaN                      NaN                 NaN             NaN              NaN        NaN          NaN          NaN          NaN       88.000000    NaN\n",
       "max            NaN       NaN                0.949000    NaN                      NaN                 NaN             NaN              NaN        NaN          NaN          NaN          NaN      336.000000    NaN"
      ]
     },
     "execution_count": 6,
     "metadata": {},
     "output_type": "execute_result"
    }
   ],
   "source": [
    "# Let's look at some statistics\n",
    "training_df.describe(include = 'all')\n",
    "\n",
    "# describe is a utility function to instantly generate a standardized set of statistics across numerical variables.\n",
    "# In this case, we forced it to also include text in the form of object type variables which essentially just provides\n",
    "# information on count and distinct count, most frequent count, and most frequent value. Numerical features get a more\n",
    "# extensive list of statistics to have a cursory feel of the dataset"
   ]
  },
  {
   "cell_type": "code",
   "execution_count": 7,
   "metadata": {},
   "outputs": [
    {
     "data": {
      "text/plain": [
       "object     12\n",
       "float64     1\n",
       "int64       1\n",
       "dtype: int64"
      ]
     },
     "execution_count": 7,
     "metadata": {},
     "output_type": "execute_result"
    }
   ],
   "source": [
    "# there are 10 objects (strings/categorical) and 4 numerical features\n",
    "training_df.dtypes.value_counts()"
   ]
  },
  {
   "cell_type": "code",
   "execution_count": 8,
   "metadata": {},
   "outputs": [
    {
     "data": {
      "text/html": [
       "<div>\n",
       "<style scoped>\n",
       "    .dataframe tbody tr th:only-of-type {\n",
       "        vertical-align: middle;\n",
       "    }\n",
       "\n",
       "    .dataframe tbody tr th {\n",
       "        vertical-align: top;\n",
       "    }\n",
       "\n",
       "    .dataframe thead th {\n",
       "        text-align: right;\n",
       "    }\n",
       "</style>\n",
       "<table border=\"1\" class=\"dataframe\">\n",
       "  <thead>\n",
       "    <tr style=\"text-align: right;\">\n",
       "      <th></th>\n",
       "      <th>gender</th>\n",
       "      <th>relevent_experience</th>\n",
       "    </tr>\n",
       "  </thead>\n",
       "  <tbody>\n",
       "    <tr>\n",
       "      <th>count</th>\n",
       "      <td>14650</td>\n",
       "      <td>19158</td>\n",
       "    </tr>\n",
       "    <tr>\n",
       "      <th>unique</th>\n",
       "      <td>3</td>\n",
       "      <td>2</td>\n",
       "    </tr>\n",
       "    <tr>\n",
       "      <th>top</th>\n",
       "      <td>Male</td>\n",
       "      <td>Has relevent experience</td>\n",
       "    </tr>\n",
       "    <tr>\n",
       "      <th>freq</th>\n",
       "      <td>13221</td>\n",
       "      <td>13792</td>\n",
       "    </tr>\n",
       "  </tbody>\n",
       "</table>\n",
       "</div>"
      ],
      "text/plain": [
       "       gender      relevent_experience\n",
       "count   14650                    19158\n",
       "unique      3                        2\n",
       "top      Male  Has relevent experience\n",
       "freq    13221                    13792"
      ]
     },
     "execution_count": 8,
     "metadata": {},
     "output_type": "execute_result"
    }
   ],
   "source": [
    "# you can filter to specific features / columns if needed\n",
    "training_df[['gender','relevent_experience']].describe(include = 'all')"
   ]
  },
  {
   "cell_type": "code",
   "execution_count": 9,
   "metadata": {},
   "outputs": [
    {
     "data": {
      "text/plain": [
       "<matplotlib.axes._subplots.AxesSubplot at 0x1d9d1855dc0>"
      ]
     },
     "execution_count": 9,
     "metadata": {},
     "output_type": "execute_result"
    },
    {
     "data": {
      "image/png": "[encoded data removed]",
      "text/plain": [
       "<Figure size 720x360 with 1 Axes>"
      ]
     },
     "metadata": {
      "needs_background": "light"
     },
     "output_type": "display_data"
    }
   ],
   "source": [
    "# Let's generate a histogram\n",
    "\n",
    "#figsize=(10,5) specifies the size of the chart\n",
    "training_df['training_hours'].hist(figsize=(10,5))"
   ]
  },
  {
   "cell_type": "code",
   "execution_count": 10,
   "metadata": {},
   "outputs": [
    {
     "data": {
      "image/png": "[encoded data removed]",
      "text/plain": [
       "<Figure size 720x360 with 1 Axes>"
      ]
     },
     "metadata": {
      "needs_background": "light"
     },
     "output_type": "display_data"
    },
    {
     "data": {
      "image/png": "[encoded data removed]",
      "text/plain": [
       "<Figure size 720x360 with 1 Axes>"
      ]
     },
     "metadata": {
      "needs_background": "light"
     },
     "output_type": "display_data"
    }
   ],
   "source": [
    "# let's look at all the numerical features\n",
    "for column_name, item in training_df.iteritems():\n",
    "    \n",
    "    if(item.dtype != 'object'):\n",
    "        item.hist(figsize=(10,5))\n",
    "        \n",
    "        # these are functions that call on the matplotlib library plot utility functions to \n",
    "        # 1) assign a chart title and 2) \"write\" the plot to the notebook\n",
    "        plt.suptitle(column_name)\n",
    "        plt.show()  \n",
    "  "
   ]
  },
  {
   "cell_type": "code",
   "execution_count": 11,
   "metadata": {},
   "outputs": [
    {
     "data": {
      "image/png": "[encoded data removed]",
      "text/plain": [
       "<Figure size 1080x1080 with 12 Axes>"
      ]
     },
     "metadata": {
      "needs_background": "light"
     },
     "output_type": "display_data"
    }
   ],
   "source": [
    "# let's create simple code that will loop thru all categorical values and plot their distribution \n",
    "# to manage the chart size, we'll only plot the top 10 unique values in terms of counts\n",
    "\n",
    "f, axs = plt.subplots(6,2, figsize=(15,15))\n",
    "axs = axs.ravel()\n",
    "j = 0\n",
    "\n",
    "for i in training_df.columns:\n",
    "    series = training_df[i]\n",
    "    tmp_df = pd.DataFrame(series.value_counts())\n",
    "    tmp_df = tmp_df.head(10).T\n",
    "\n",
    "    # let's only plot those non-numerical data types as well as filter out enrollee id because that wouldn't make sense\n",
    "    if(series.dtype == 'object' and i != 'enrollee_id'):\n",
    "        tmp_df.plot.bar(ax=axs[j],title=i,cmap=\"viridis\")\n",
    "        j+=1\n",
    "plt.tight_layout()\n",
    "plt.show()"
   ]
  },
  {
   "cell_type": "markdown",
   "metadata": {},
   "source": [
    "# Target"
   ]
  },
  {
   "cell_type": "code",
   "execution_count": 12,
   "metadata": {},
   "outputs": [
    {
     "data": {
      "text/plain": [
       "<matplotlib.axes._subplots.AxesSubplot at 0x1d9d2ab5be0>"
      ]
     },
     "execution_count": 12,
     "metadata": {},
     "output_type": "execute_result"
    },
    {
     "data": {
      "image/png": "[encoded data removed]",
      "text/plain": [
       "<Figure size 432x288 with 1 Axes>"
      ]
     },
     "metadata": {
      "needs_background": "light"
     },
     "output_type": "display_data"
    }
   ],
   "source": [
    "# Let's look at the target variable and how the attributes are distributed with respect to it\n",
    "# Here's an alternative look at the plot where in we set normalize = True to show values in percentages\n",
    "\n",
    "tmp_df = pd.DataFrame(training_df['target'].value_counts(normalize=True).reset_index(drop=True)).T\n",
    "tmp_df.plot.bar(title=\"Target\",cmap=\"viridis\")\n",
    "\n",
    "# Please note that value_counts() excludes NA values, so numbers might not add up to 1. Pls refer to pandas Documentation"
   ]
  },
  {
   "cell_type": "code",
   "execution_count": null,
   "metadata": {},
   "outputs": [],
   "source": []
  },
  {
   "cell_type": "code",
   "execution_count": 13,
   "metadata": {},
   "outputs": [
    {
     "data": {
      "image/png": "[encoded data removed]",
      "text/plain": [
       "<Figure size 1080x1080 with 10 Axes>"
      ]
     },
     "metadata": {
      "needs_background": "light"
     },
     "output_type": "display_data"
    }
   ],
   "source": [
    "# let's create simple code that will loop thru all categorical values and plot their distribution \n",
    "# to manage the chart size, we'll only plot the top 10 unique values in terms of counts\n",
    "\n",
    "f, axs = plt.subplots(5,2, figsize=(15,15))\n",
    "axs = axs.ravel()\n",
    "j = 0\n",
    "ignore_list = ['target','enrollee_id','city','city_development_index']\n",
    "\n",
    "for i in training_df.columns:\n",
    "    series = training_df[i]\n",
    "    tmp_df = pd.DataFrame(series.value_counts())\n",
    "    tmp_df = tmp_df.head(10).T\n",
    "\n",
    "    # let's only plot those non-numerical data types as well as filter out enrollee id because that wouldn't make sense\n",
    "    if(series.dtype == 'object' and i not in ignore_list):\n",
    "        tmp_df = pd.pivot_table(training_df,index=\"target\",values=\"enrollee_id\",columns=i,aggfunc=\"count\")\n",
    "        tmp_df.plot.bar(ax=axs[j],title=i,cmap=\"viridis\")\n",
    "        axs[j].legend(loc='upper center', bbox_to_anchor=(0.5, -0.30), ncol=5)\n",
    "        j+=1\n",
    "plt.tight_layout()\n",
    "plt.show()"
   ]
  },
  {
   "cell_type": "code",
   "execution_count": 14,
   "metadata": {},
   "outputs": [
    {
     "data": {
      "text/plain": [
       "<matplotlib.axes._subplots.AxesSubplot at 0x1d9d2b16220>"
      ]
     },
     "execution_count": 14,
     "metadata": {},
     "output_type": "execute_result"
    },
    {
     "data": {
      "image/png": "[encoded data removed]",
      "text/plain": [
       "<Figure size 1080x360 with 1 Axes>"
      ]
     },
     "metadata": {
      "needs_background": "light"
     },
     "output_type": "display_data"
    }
   ],
   "source": [
    "# since city has a larger list, let's look at it separately - let's only look at the top 20\n",
    "# first one is sorted highest to lowest counts based on target == 1 \n",
    "\n",
    "tmp_df = pd.pivot_table(training_df[['target','enrollee_id','city']],index=\"city\",columns=\"target\",aggfunc=\"count\")\n",
    "tmp_df.columns = [0,1]\n",
    "tmp_df.columns.index = 'city'\n",
    "tmp_df = tmp_df.sort_values(1,ascending=False)\n",
    "tmp_df[0:20].plot.bar(cmap=\"viridis\",figsize=(15,5))"
   ]
  },
  {
   "cell_type": "code",
   "execution_count": 15,
   "metadata": {},
   "outputs": [
    {
     "data": {
      "text/plain": [
       "<matplotlib.axes._subplots.AxesSubplot at 0x1d9d49867f0>"
      ]
     },
     "execution_count": 15,
     "metadata": {},
     "output_type": "execute_result"
    },
    {
     "data": {
      "image/png": "[encoded data removed]",
      "text/plain": [
       "<Figure size 1080x360 with 1 Axes>"
      ]
     },
     "metadata": {
      "needs_background": "light"
     },
     "output_type": "display_data"
    }
   ],
   "source": [
    "# second is sorted highest to lowest counts based on target == 0 \n",
    "\n",
    "tmp_df = pd.pivot_table(training_df[['target','enrollee_id','city']],index=\"city\",columns=\"target\",aggfunc=\"count\")\n",
    "tmp_df.columns = [0,1]\n",
    "tmp_df.columns.index = 'city'\n",
    "tmp_df = tmp_df.sort_values(0,ascending=False)\n",
    "tmp_df[0:20].plot.bar(cmap=\"viridis\",figsize=(15,5))"
   ]
  },
  {
   "cell_type": "markdown",
   "metadata": {},
   "source": [
    "City development index\n",
    "===\n",
    "The City Development Index was developed for the Second United Nations Conference on Human Settlements (Habitat II) in 1996 and measures the level of development in cities. The Urban Indicators Programme of the United Nations Human Settlements Programme (UN-Habitat) developed the indicator so that they could rank cities of the world according to their level of development and as a display of indicators depicting development. The CDI cuts across the different clusters identified in the Urban Indicator Framework as it is based on five sub indices namely, infrastructure, waste, health, education and city product. It is useful as it provides a snap-shot view of how cities are doing with respect to the different indices. It was invented by Dr Joe Flood, first Coordinator of the Urban Indicators Program, following a statistical analysis of city indicators data.\n",
    "Reference :https://en.wikipedia.org/wiki/City_development_index\n",
    "\n",
    "![Computation](img/Calculation-of-CDI-by-UN-HABITAT-GUIP-Index-Formula.png)"
   ]
  },
  {
   "cell_type": "code",
   "execution_count": 16,
   "metadata": {},
   "outputs": [
    {
     "data": {
      "text/plain": [
       "<matplotlib.axes._subplots.AxesSubplot at 0x1d9d1b2d370>"
      ]
     },
     "execution_count": 16,
     "metadata": {},
     "output_type": "execute_result"
    },
    {
     "data": {
      "image/png": "[encoded data removed]",
      "text/plain": [
       "<Figure size 720x360 with 1 Axes>"
      ]
     },
     "metadata": {
      "needs_background": "light"
     },
     "output_type": "display_data"
    }
   ],
   "source": [
    "training_df['city_development_index'].hist(figsize=(10,5))"
   ]
  },
  {
   "cell_type": "code",
   "execution_count": 17,
   "metadata": {},
   "outputs": [
    {
     "data": {
      "text/html": [
       "<div>\n",
       "<style scoped>\n",
       "    .dataframe tbody tr th:only-of-type {\n",
       "        vertical-align: middle;\n",
       "    }\n",
       "\n",
       "    .dataframe tbody tr th {\n",
       "        vertical-align: top;\n",
       "    }\n",
       "\n",
       "    .dataframe thead th {\n",
       "        text-align: right;\n",
       "    }\n",
       "</style>\n",
       "<table border=\"1\" class=\"dataframe\">\n",
       "  <thead>\n",
       "    <tr style=\"text-align: right;\">\n",
       "      <th></th>\n",
       "      <th>city_development_index</th>\n",
       "      <th>city</th>\n",
       "    </tr>\n",
       "  </thead>\n",
       "  <tbody>\n",
       "    <tr>\n",
       "      <th>112</th>\n",
       "      <td>0.949</td>\n",
       "      <td>city_98</td>\n",
       "    </tr>\n",
       "    <tr>\n",
       "      <th>61</th>\n",
       "      <td>0.939</td>\n",
       "      <td>city_75</td>\n",
       "    </tr>\n",
       "    <tr>\n",
       "      <th>183</th>\n",
       "      <td>0.939</td>\n",
       "      <td>city_28</td>\n",
       "    </tr>\n",
       "    <tr>\n",
       "      <th>15</th>\n",
       "      <td>0.926</td>\n",
       "      <td>city_114</td>\n",
       "    </tr>\n",
       "    <tr>\n",
       "      <th>157</th>\n",
       "      <td>0.925</td>\n",
       "      <td>city_89</td>\n",
       "    </tr>\n",
       "    <tr>\n",
       "      <th>115</th>\n",
       "      <td>0.925</td>\n",
       "      <td>city_97</td>\n",
       "    </tr>\n",
       "    <tr>\n",
       "      <th>41</th>\n",
       "      <td>0.924</td>\n",
       "      <td>city_104</td>\n",
       "    </tr>\n",
       "    <tr>\n",
       "      <th>49</th>\n",
       "      <td>0.923</td>\n",
       "      <td>city_83</td>\n",
       "    </tr>\n",
       "    <tr>\n",
       "      <th>903</th>\n",
       "      <td>0.921</td>\n",
       "      <td>city_167</td>\n",
       "    </tr>\n",
       "    <tr>\n",
       "      <th>6</th>\n",
       "      <td>0.920</td>\n",
       "      <td>city_160</td>\n",
       "    </tr>\n",
       "    <tr>\n",
       "      <th>0</th>\n",
       "      <td>0.920</td>\n",
       "      <td>city_103</td>\n",
       "    </tr>\n",
       "    <tr>\n",
       "      <th>341</th>\n",
       "      <td>0.915</td>\n",
       "      <td>city_99</td>\n",
       "    </tr>\n",
       "    <tr>\n",
       "      <th>12</th>\n",
       "      <td>0.913</td>\n",
       "      <td>city_61</td>\n",
       "    </tr>\n",
       "    <tr>\n",
       "      <th>34</th>\n",
       "      <td>0.910</td>\n",
       "      <td>city_16</td>\n",
       "    </tr>\n",
       "    <tr>\n",
       "      <th>204</th>\n",
       "      <td>0.903</td>\n",
       "      <td>city_165</td>\n",
       "    </tr>\n",
       "    <tr>\n",
       "      <th>330</th>\n",
       "      <td>0.899</td>\n",
       "      <td>city_23</td>\n",
       "    </tr>\n",
       "    <tr>\n",
       "      <th>1060</th>\n",
       "      <td>0.898</td>\n",
       "      <td>city_39</td>\n",
       "    </tr>\n",
       "    <tr>\n",
       "      <th>106</th>\n",
       "      <td>0.897</td>\n",
       "      <td>city_136</td>\n",
       "    </tr>\n",
       "    <tr>\n",
       "      <th>118</th>\n",
       "      <td>0.896</td>\n",
       "      <td>city_50</td>\n",
       "    </tr>\n",
       "    <tr>\n",
       "      <th>395</th>\n",
       "      <td>0.895</td>\n",
       "      <td>city_10</td>\n",
       "    </tr>\n",
       "  </tbody>\n",
       "</table>\n",
       "</div>"
      ],
      "text/plain": [
       "      city_development_index      city\n",
       "112                    0.949   city_98\n",
       "61                     0.939   city_75\n",
       "183                    0.939   city_28\n",
       "15                     0.926  city_114\n",
       "157                    0.925   city_89\n",
       "115                    0.925   city_97\n",
       "41                     0.924  city_104\n",
       "49                     0.923   city_83\n",
       "903                    0.921  city_167\n",
       "6                      0.920  city_160\n",
       "0                      0.920  city_103\n",
       "341                    0.915   city_99\n",
       "12                     0.913   city_61\n",
       "34                     0.910   city_16\n",
       "204                    0.903  city_165\n",
       "330                    0.899   city_23\n",
       "1060                   0.898   city_39\n",
       "106                    0.897  city_136\n",
       "118                    0.896   city_50\n",
       "395                    0.895   city_10"
      ]
     },
     "execution_count": 17,
     "metadata": {},
     "output_type": "execute_result"
    }
   ],
   "source": [
    "training_df[['city_development_index','city']].drop_duplicates().sort_values('city_development_index',ascending=False)[0:20]"
   ]
  },
  {
   "cell_type": "code",
   "execution_count": 18,
   "metadata": {},
   "outputs": [
    {
     "data": {
      "text/plain": [
       "<matplotlib.axes._subplots.AxesSubplot at 0x1d9d1c411c0>"
      ]
     },
     "execution_count": 18,
     "metadata": {},
     "output_type": "execute_result"
    },
    {
     "data": {
      "image/png": "[encoded data removed]",
      "text/plain": [
       "<Figure size 720x360 with 1 Axes>"
      ]
     },
     "metadata": {
      "needs_background": "light"
     },
     "output_type": "display_data"
    }
   ],
   "source": [
    "tmp_df = training_df[training_df['target']=='1.0']\n",
    "tmp_df['city_development_index'].hist(figsize=(10,5))"
   ]
  },
  {
   "cell_type": "code",
   "execution_count": 19,
   "metadata": {},
   "outputs": [
    {
     "data": {
      "text/plain": [
       "<matplotlib.axes._subplots.AxesSubplot at 0x1d9d20e0640>"
      ]
     },
     "execution_count": 19,
     "metadata": {},
     "output_type": "execute_result"
    },
    {
     "data": {
      "image/png": "[encoded data removed]",
      "text/plain": [
       "<Figure size 720x360 with 1 Axes>"
      ]
     },
     "metadata": {
      "needs_background": "light"
     },
     "output_type": "display_data"
    }
   ],
   "source": [
    "tmp_df = training_df[training_df['target']==\"0.0\"]\n",
    "tmp_df['city_development_index'].hist(figsize=(10,5))"
   ]
  },
  {
   "cell_type": "code",
   "execution_count": 20,
   "metadata": {},
   "outputs": [
    {
     "data": {
      "text/plain": [
       "<matplotlib.axes._subplots.AxesSubplot at 0x1d9d1cca070>"
      ]
     },
     "execution_count": 20,
     "metadata": {},
     "output_type": "execute_result"
    },
    {
     "data": {
      "image/png": "[encoded data removed]",
      "text/plain": [
       "<Figure size 720x360 with 1 Axes>"
      ]
     },
     "metadata": {
      "needs_background": "light"
     },
     "output_type": "display_data"
    }
   ],
   "source": [
    "tmp_df = training_df[training_df['target']=='1.0']\n",
    "tmp_df['training_hours'].hist(figsize=(10,5))"
   ]
  },
  {
   "cell_type": "code",
   "execution_count": 21,
   "metadata": {},
   "outputs": [
    {
     "data": {
      "text/plain": [
       "<matplotlib.axes._subplots.AxesSubplot at 0x1d9d1fe0250>"
      ]
     },
     "execution_count": 21,
     "metadata": {},
     "output_type": "execute_result"
    },
    {
     "data": {
      "image/png": "[encoded data removed]",
      "text/plain": [
       "<Figure size 720x360 with 1 Axes>"
      ]
     },
     "metadata": {
      "needs_background": "light"
     },
     "output_type": "display_data"
    }
   ],
   "source": [
    "tmp_df = training_df[training_df['target']=='0.0']\n",
    "tmp_df['training_hours'].hist(figsize=(10,5))"
   ]
  },
  {
   "cell_type": "markdown",
   "metadata": {},
   "source": [
    "# Correlation\n",
    "\n",
    "We need to find a good idea of what feature to prioritize on our initial base model before we do any sort of optimization. Let's do some basic correlation tests to find out which have influences tha target variable"
   ]
  },
  {
   "cell_type": "code",
   "execution_count": 22,
   "metadata": {
    "scrolled": true
   },
   "outputs": [
    {
     "data": {
      "text/html": [
       "<div>\n",
       "<style scoped>\n",
       "    .dataframe tbody tr th:only-of-type {\n",
       "        vertical-align: middle;\n",
       "    }\n",
       "\n",
       "    .dataframe tbody tr th {\n",
       "        vertical-align: top;\n",
       "    }\n",
       "\n",
       "    .dataframe thead th {\n",
       "        text-align: right;\n",
       "    }\n",
       "</style>\n",
       "<table border=\"1\" class=\"dataframe\">\n",
       "  <thead>\n",
       "    <tr style=\"text-align: right;\">\n",
       "      <th></th>\n",
       "      <th>city_development_index</th>\n",
       "      <th>training_hours</th>\n",
       "    </tr>\n",
       "  </thead>\n",
       "  <tbody>\n",
       "    <tr>\n",
       "      <th>city_development_index</th>\n",
       "      <td>1.00000</td>\n",
       "      <td>0.00192</td>\n",
       "    </tr>\n",
       "    <tr>\n",
       "      <th>training_hours</th>\n",
       "      <td>0.00192</td>\n",
       "      <td>1.00000</td>\n",
       "    </tr>\n",
       "  </tbody>\n",
       "</table>\n",
       "</div>"
      ],
      "text/plain": [
       "                        city_development_index  training_hours\n",
       "city_development_index                 1.00000         0.00192\n",
       "training_hours                         0.00192         1.00000"
      ]
     },
     "execution_count": 22,
     "metadata": {},
     "output_type": "execute_result"
    }
   ],
   "source": [
    "# Numerical Correlation using Pearson\n",
    "\n",
    "corrMatrix=training_df[[\"city\",\"city_development_index\",\"gender\",\"relevent_experience\",\"enrolled_university\",\"education_level\",\n",
    "                   \"major_discipline\",\"experience\",\"company_size\",\"company_type\",\"last_new_job\",\"training_hours\",\"target\"]].corr()\n",
    "\n",
    "# notice that the function automatically remove 'objects' and only computes for numerical features\n",
    "corrMatrix"
   ]
  },
  {
   "cell_type": "code",
   "execution_count": 23,
   "metadata": {},
   "outputs": [
    {
     "data": {
      "text/plain": [
       "enrollee_id                object\n",
       "city                       object\n",
       "city_development_index    float64\n",
       "gender                     object\n",
       "relevent_experience        object\n",
       "enrolled_university        object\n",
       "education_level            object\n",
       "major_discipline           object\n",
       "experience                 object\n",
       "company_size               object\n",
       "company_type               object\n",
       "last_new_job               object\n",
       "training_hours              int64\n",
       "target                     object\n",
       "dtype: object"
      ]
     },
     "execution_count": 23,
     "metadata": {},
     "output_type": "execute_result"
    }
   ],
   "source": [
    "# let's review the data types\n",
    "training_df.dtypes"
   ]
  },
  {
   "cell_type": "code",
   "execution_count": 24,
   "metadata": {},
   "outputs": [
    {
     "data": {
      "text/plain": [
       "0    1.0\n",
       "1    0.0\n",
       "2    0.0\n",
       "3    1.0\n",
       "4    0.0\n",
       "Name: target, dtype: float64"
      ]
     },
     "execution_count": 24,
     "metadata": {},
     "output_type": "execute_result"
    }
   ],
   "source": [
    "# you can change a data type by using astype function\n",
    "training_df['target'].astype(float).head()\n",
    "\n",
    "# this returns a Series object (read up on the Dataframes vs Series)"
   ]
  },
  {
   "cell_type": "markdown",
   "metadata": {},
   "source": [
    "# Preprocessing"
   ]
  },
  {
   "cell_type": "code",
   "execution_count": 25,
   "metadata": {},
   "outputs": [
    {
     "data": {
      "text/html": [
       "<div>\n",
       "<style scoped>\n",
       "    .dataframe tbody tr th:only-of-type {\n",
       "        vertical-align: middle;\n",
       "    }\n",
       "\n",
       "    .dataframe tbody tr th {\n",
       "        vertical-align: top;\n",
       "    }\n",
       "\n",
       "    .dataframe thead th {\n",
       "        text-align: right;\n",
       "    }\n",
       "</style>\n",
       "<table border=\"1\" class=\"dataframe\">\n",
       "  <thead>\n",
       "    <tr style=\"text-align: right;\">\n",
       "      <th></th>\n",
       "      <th>data_type</th>\n",
       "      <th>non_null_count</th>\n",
       "      <th>null_count</th>\n",
       "      <th>total</th>\n",
       "      <th>null_count/total</th>\n",
       "    </tr>\n",
       "  </thead>\n",
       "  <tbody>\n",
       "    <tr>\n",
       "      <th>enrollee_id</th>\n",
       "      <td>object</td>\n",
       "      <td>19158</td>\n",
       "      <td>0</td>\n",
       "      <td>19158</td>\n",
       "      <td>0.000000</td>\n",
       "    </tr>\n",
       "    <tr>\n",
       "      <th>city</th>\n",
       "      <td>object</td>\n",
       "      <td>19158</td>\n",
       "      <td>0</td>\n",
       "      <td>19158</td>\n",
       "      <td>0.000000</td>\n",
       "    </tr>\n",
       "    <tr>\n",
       "      <th>city_development_index</th>\n",
       "      <td>float64</td>\n",
       "      <td>19158</td>\n",
       "      <td>0</td>\n",
       "      <td>19158</td>\n",
       "      <td>0.000000</td>\n",
       "    </tr>\n",
       "    <tr>\n",
       "      <th>gender</th>\n",
       "      <td>object</td>\n",
       "      <td>14650</td>\n",
       "      <td>4508</td>\n",
       "      <td>19158</td>\n",
       "      <td>23.530640</td>\n",
       "    </tr>\n",
       "    <tr>\n",
       "      <th>relevent_experience</th>\n",
       "      <td>object</td>\n",
       "      <td>19158</td>\n",
       "      <td>0</td>\n",
       "      <td>19158</td>\n",
       "      <td>0.000000</td>\n",
       "    </tr>\n",
       "    <tr>\n",
       "      <th>enrolled_university</th>\n",
       "      <td>object</td>\n",
       "      <td>18772</td>\n",
       "      <td>386</td>\n",
       "      <td>19158</td>\n",
       "      <td>2.014824</td>\n",
       "    </tr>\n",
       "    <tr>\n",
       "      <th>education_level</th>\n",
       "      <td>object</td>\n",
       "      <td>18698</td>\n",
       "      <td>460</td>\n",
       "      <td>19158</td>\n",
       "      <td>2.401086</td>\n",
       "    </tr>\n",
       "    <tr>\n",
       "      <th>major_discipline</th>\n",
       "      <td>object</td>\n",
       "      <td>16345</td>\n",
       "      <td>2813</td>\n",
       "      <td>19158</td>\n",
       "      <td>14.683161</td>\n",
       "    </tr>\n",
       "    <tr>\n",
       "      <th>experience</th>\n",
       "      <td>object</td>\n",
       "      <td>19093</td>\n",
       "      <td>65</td>\n",
       "      <td>19158</td>\n",
       "      <td>0.339284</td>\n",
       "    </tr>\n",
       "    <tr>\n",
       "      <th>company_size</th>\n",
       "      <td>object</td>\n",
       "      <td>13220</td>\n",
       "      <td>5938</td>\n",
       "      <td>19158</td>\n",
       "      <td>30.994885</td>\n",
       "    </tr>\n",
       "    <tr>\n",
       "      <th>company_type</th>\n",
       "      <td>object</td>\n",
       "      <td>13018</td>\n",
       "      <td>6140</td>\n",
       "      <td>19158</td>\n",
       "      <td>32.049274</td>\n",
       "    </tr>\n",
       "    <tr>\n",
       "      <th>last_new_job</th>\n",
       "      <td>object</td>\n",
       "      <td>18735</td>\n",
       "      <td>423</td>\n",
       "      <td>19158</td>\n",
       "      <td>2.207955</td>\n",
       "    </tr>\n",
       "    <tr>\n",
       "      <th>training_hours</th>\n",
       "      <td>int64</td>\n",
       "      <td>19158</td>\n",
       "      <td>0</td>\n",
       "      <td>19158</td>\n",
       "      <td>0.000000</td>\n",
       "    </tr>\n",
       "    <tr>\n",
       "      <th>target</th>\n",
       "      <td>object</td>\n",
       "      <td>19158</td>\n",
       "      <td>0</td>\n",
       "      <td>19158</td>\n",
       "      <td>0.000000</td>\n",
       "    </tr>\n",
       "  </tbody>\n",
       "</table>\n",
       "</div>"
      ],
      "text/plain": [
       "                       data_type non_null_count  null_count  total  null_count/total\n",
       "enrollee_id               object          19158           0  19158          0.000000\n",
       "city                      object          19158           0  19158          0.000000\n",
       "city_development_index   float64          19158           0  19158          0.000000\n",
       "gender                    object          14650        4508  19158         23.530640\n",
       "relevent_experience       object          19158           0  19158          0.000000\n",
       "enrolled_university       object          18772         386  19158          2.014824\n",
       "education_level           object          18698         460  19158          2.401086\n",
       "major_discipline          object          16345        2813  19158         14.683161\n",
       "experience                object          19093          65  19158          0.339284\n",
       "company_size              object          13220        5938  19158         30.994885\n",
       "company_type              object          13018        6140  19158         32.049274\n",
       "last_new_job              object          18735         423  19158          2.207955\n",
       "training_hours             int64          19158           0  19158          0.000000\n",
       "target                    object          19158           0  19158          0.000000"
      ]
     },
     "execution_count": 25,
     "metadata": {},
     "output_type": "execute_result"
    }
   ],
   "source": [
    "# How many null values do we have per column?\n",
    "\n",
    "# Let's create a new dataframe\n",
    "tmp_df = pd.DataFrame()\n",
    "\n",
    "# add new columns\n",
    "tmp_df['data_type'] = training_df.dtypes\n",
    "tmp_df['non_null_count'] = training_df.describe(include='all').T['count']\n",
    "tmp_df['null_count'] = training_df.isnull().sum()\n",
    "tmp_df['total'] = training_df.shape[0]\n",
    "tmp_df['null_count/total'] = (tmp_df['null_count'] / training_df.shape[0]) * 100\n",
    "tmp_df"
   ]
  },
  {
   "cell_type": "markdown",
   "metadata": {},
   "source": [
    "# Preprocessing design and assumptions\n",
    "\n",
    "* Some columns we can drop because they either have duplicates ie. city = city index\n",
    "* Some columns maybe have too many \"categories\" so we would need to group them to minimize complexity ie. experience/ city index\n",
    "* Numerical features use ZERO for null by default - no action needed\n",
    "* Education_level  has less than 10% null counts - we will drop the records with null\n",
    "* Gender, major_discipline, company_size, company_type have high null counts (>10%) - we need to think of a strategy on dealing with this. either we:\n",
    "    1. drop all rows with null value \n",
    "    2. drop the column itself \n",
    "    3. impute with a different value\n",
    "    4. we can also create an entirely new variable and interpret the original variable differently based on our model's goal\n",
    "\n",
    "* Experience, last_new_job, enrolled_university  - we will use 3. and impute to the \"lowest\" category ie. experience means no experience\n",
    "* Gender, major_discipline, company_type, company size - we will remove this to remove bias to gendar (and similar) and replace it with an indicator of availability of information. Gender_ind = 1 means it is non null. It tells us that participant was willing to provide data\n"
   ]
  },
  {
   "cell_type": "code",
   "execution_count": 26,
   "metadata": {},
   "outputs": [],
   "source": [
    "# we are going to use a lambda function. A lambda function is a temporary anonmyous function they gets applied to\n",
    "# to all rows of the feature/ column\n",
    "\n",
    "# if a variable compared to itself is not equal, then its a null value\n",
    "# return 0 if the value is false (null) else return 1 to indicate a gender value exists\n",
    "training_df['gender_ind'] = training_df['gender'].apply(lambda x: 0 if(x!=x) else 1)\n",
    "training_df['major_discipline_ind'] = training_df['major_discipline'].apply(lambda x: 0 if(x!=x) else 1)\n",
    "training_df['company_type_ind'] = training_df['company_type'].apply(lambda x: 0 if(x!=x) else 1)\n",
    "training_df['company_size_ind'] = training_df['company_size'].apply(lambda x: 0 if(x!=x) else 1)"
   ]
  },
  {
   "cell_type": "code",
   "execution_count": 27,
   "metadata": {},
   "outputs": [],
   "source": [
    "# drop values with null for Education_level\n",
    "training_df = training_df[training_df['education_level'].notna()]\n"
   ]
  },
  {
   "cell_type": "code",
   "execution_count": 28,
   "metadata": {},
   "outputs": [
    {
     "data": {
      "text/plain": [
       "1        7914\n",
       ">4       3238\n",
       "2        2860\n",
       "never    2274\n",
       "4        1020\n",
       "3        1006\n",
       "Name: last_new_job, dtype: int64"
      ]
     },
     "execution_count": 28,
     "metadata": {},
     "output_type": "execute_result"
    }
   ],
   "source": [
    "training_df['last_new_job'].value_counts()"
   ]
  },
  {
   "cell_type": "code",
   "execution_count": 29,
   "metadata": {},
   "outputs": [
    {
     "data": {
      "text/plain": [
       "array(['1', '>4', 'never', ..., '4', '2', '1'], dtype=object)"
      ]
     },
     "execution_count": 29,
     "metadata": {},
     "output_type": "execute_result"
    }
   ],
   "source": [
    "training_df['last_new_job'].values"
   ]
  },
  {
   "cell_type": "code",
   "execution_count": 30,
   "metadata": {},
   "outputs": [],
   "source": [
    "# impute Experience, last_new_job, enrolled_university to the \"lowest\" value\n",
    "\n",
    "# last new job.\n",
    "# replace null with never\n",
    "training_df['last_new_job_fixed'] = training_df['last_new_job'].replace(np.nan,'never')\n",
    "\n",
    "# Experience\n",
    "# replace null with 0\n",
    "training_df['experience_fixed'] = training_df['experience'].replace(np.nan,'0')\n",
    "\n",
    "\n",
    "# enrolled_university\n",
    "# replace null with no_enrollment\n",
    "training_df['enrolled_university_fixed'] = training_df['enrolled_university'].replace(np.nan,'no_enrollment')\n"
   ]
  },
  {
   "cell_type": "code",
   "execution_count": 31,
   "metadata": {},
   "outputs": [
    {
     "data": {
      "text/plain": [
       "21    3230\n",
       "5     1387\n",
       "4     1369\n",
       "3     1306\n",
       "6     1190\n",
       "2     1063\n",
       "7     1008\n",
       "10     970\n",
       "9      966\n",
       "8      790\n",
       "15     675\n",
       "11     657\n",
       "14     581\n",
       "0      550\n",
       "1      516\n",
       "16     499\n",
       "12     487\n",
       "13     397\n",
       "17     336\n",
       "19     301\n",
       "18     277\n",
       "20     143\n",
       "Name: experience_num, dtype: int64"
      ]
     },
     "execution_count": 31,
     "metadata": {},
     "output_type": "execute_result"
    }
   ],
   "source": [
    "# let's create a numerical version of experience\n",
    "\n",
    "# this is how you declare a function\n",
    "def change_value(x):\n",
    "    if(x!=x):\n",
    "        return 0  \n",
    "    if(x=='>20'):\n",
    "        return 21\n",
    "    elif(x=='<1'):\n",
    "        return 0\n",
    "    else:\n",
    "        return int(x)\n",
    "\n",
    "# you can pass functions in an apply method\n",
    "training_df['experience_num'] = training_df['experience_fixed'].apply(lambda x: change_value(x))\n",
    "training_df['experience_num'].value_counts()"
   ]
  },
  {
   "cell_type": "code",
   "execution_count": 32,
   "metadata": {},
   "outputs": [
    {
     "data": {
      "text/html": [
       "<div>\n",
       "<style scoped>\n",
       "    .dataframe tbody tr th:only-of-type {\n",
       "        vertical-align: middle;\n",
       "    }\n",
       "\n",
       "    .dataframe tbody tr th {\n",
       "        vertical-align: top;\n",
       "    }\n",
       "\n",
       "    .dataframe thead th {\n",
       "        text-align: right;\n",
       "    }\n",
       "</style>\n",
       "<table border=\"1\" class=\"dataframe\">\n",
       "  <thead>\n",
       "    <tr style=\"text-align: right;\">\n",
       "      <th></th>\n",
       "      <th>experience_num</th>\n",
       "      <th>xp_cat</th>\n",
       "      <th>city_development_index</th>\n",
       "      <th>ct_idx_cat</th>\n",
       "    </tr>\n",
       "  </thead>\n",
       "  <tbody>\n",
       "    <tr>\n",
       "      <th>0</th>\n",
       "      <td>21</td>\n",
       "      <td>level_5</td>\n",
       "      <td>0.920</td>\n",
       "      <td>city_index_5</td>\n",
       "    </tr>\n",
       "    <tr>\n",
       "      <th>1</th>\n",
       "      <td>15</td>\n",
       "      <td>level_3</td>\n",
       "      <td>0.776</td>\n",
       "      <td>city_index_4</td>\n",
       "    </tr>\n",
       "    <tr>\n",
       "      <th>2</th>\n",
       "      <td>5</td>\n",
       "      <td>level_1</td>\n",
       "      <td>0.624</td>\n",
       "      <td>city_index_2</td>\n",
       "    </tr>\n",
       "    <tr>\n",
       "      <th>3</th>\n",
       "      <td>0</td>\n",
       "      <td>level_0</td>\n",
       "      <td>0.789</td>\n",
       "      <td>city_index_4</td>\n",
       "    </tr>\n",
       "    <tr>\n",
       "      <th>4</th>\n",
       "      <td>21</td>\n",
       "      <td>level_5</td>\n",
       "      <td>0.767</td>\n",
       "      <td>city_index_4</td>\n",
       "    </tr>\n",
       "  </tbody>\n",
       "</table>\n",
       "</div>"
      ],
      "text/plain": [
       "   experience_num   xp_cat  city_development_index    ct_idx_cat\n",
       "0              21  level_5                   0.920  city_index_5\n",
       "1              15  level_3                   0.776  city_index_4\n",
       "2               5  level_1                   0.624  city_index_2\n",
       "3               0  level_0                   0.789  city_index_4\n",
       "4              21  level_5                   0.767  city_index_4"
      ]
     },
     "execution_count": 32,
     "metadata": {},
     "output_type": "execute_result"
    }
   ],
   "source": [
    "# regroup experience and city index\n",
    "\n",
    "# experience. we will use the following categories\n",
    "# level 0 (0-1), level 1 (2-5), level 2(6-10), level 3 (11-15), level 4 (16-19), level_5(20>)\n",
    "cut_labels = ['level_0','level_1','level_2','level_3','level_4','level_5']\n",
    "cut_bins = [-1,2,5,10,16,20,21]\n",
    "training_df['xp_cat'] = pd.cut(training_df['experience_num'], bins=cut_bins,labels=cut_labels)\n",
    "\n",
    "# city_development_index\n",
    "\n",
    "cut_labels = ['city_index_1','city_index_2','city_index_3','city_index_4','city_index_5']\n",
    "\n",
    "#divide equality into 5 cuts\n",
    "training_df['ct_idx_cat'] = pd.cut(training_df['city_development_index'], bins=5,labels=cut_labels)\n",
    "\n",
    "training_df[['experience_num','xp_cat','city_development_index','ct_idx_cat']].head()"
   ]
  },
  {
   "cell_type": "code",
   "execution_count": 33,
   "metadata": {},
   "outputs": [],
   "source": [
    "# remove unnneeded columns\n",
    "del training_df['city']\n",
    "\n",
    "del training_df['last_new_job']\n",
    "del training_df['experience']\n",
    "del training_df['enrolled_university']\n",
    "del training_df['city_development_index']\n",
    "del training_df['experience_num']\n",
    "del training_df['experience_fixed']\n",
    "\n",
    "del training_df['gender']\n",
    "del training_df['major_discipline']\n",
    "del training_df['company_type']\n",
    "del training_df['company_size']\n",
    "\n"
   ]
  },
  {
   "cell_type": "code",
   "execution_count": 34,
   "metadata": {},
   "outputs": [
    {
     "data": {
      "text/html": [
       "<div>\n",
       "<style scoped>\n",
       "    .dataframe tbody tr th:only-of-type {\n",
       "        vertical-align: middle;\n",
       "    }\n",
       "\n",
       "    .dataframe tbody tr th {\n",
       "        vertical-align: top;\n",
       "    }\n",
       "\n",
       "    .dataframe thead th {\n",
       "        text-align: right;\n",
       "    }\n",
       "</style>\n",
       "<table border=\"1\" class=\"dataframe\">\n",
       "  <thead>\n",
       "    <tr style=\"text-align: right;\">\n",
       "      <th></th>\n",
       "      <th>enrollee_id</th>\n",
       "      <th>relevent_experience</th>\n",
       "      <th>education_level</th>\n",
       "      <th>training_hours</th>\n",
       "      <th>target</th>\n",
       "      <th>gender_ind</th>\n",
       "      <th>major_discipline_ind</th>\n",
       "      <th>company_type_ind</th>\n",
       "      <th>company_size_ind</th>\n",
       "      <th>last_new_job_fixed</th>\n",
       "      <th>enrolled_university_fixed</th>\n",
       "      <th>xp_cat</th>\n",
       "      <th>ct_idx_cat</th>\n",
       "    </tr>\n",
       "  </thead>\n",
       "  <tbody>\n",
       "    <tr>\n",
       "      <th>0</th>\n",
       "      <td>8949</td>\n",
       "      <td>Has relevent experience</td>\n",
       "      <td>Graduate</td>\n",
       "      <td>36</td>\n",
       "      <td>1.0</td>\n",
       "      <td>1</td>\n",
       "      <td>1</td>\n",
       "      <td>0</td>\n",
       "      <td>0</td>\n",
       "      <td>1</td>\n",
       "      <td>no_enrollment</td>\n",
       "      <td>level_5</td>\n",
       "      <td>city_index_5</td>\n",
       "    </tr>\n",
       "    <tr>\n",
       "      <th>1</th>\n",
       "      <td>29725</td>\n",
       "      <td>No relevent experience</td>\n",
       "      <td>Graduate</td>\n",
       "      <td>47</td>\n",
       "      <td>0.0</td>\n",
       "      <td>1</td>\n",
       "      <td>1</td>\n",
       "      <td>1</td>\n",
       "      <td>1</td>\n",
       "      <td>&gt;4</td>\n",
       "      <td>no_enrollment</td>\n",
       "      <td>level_3</td>\n",
       "      <td>city_index_4</td>\n",
       "    </tr>\n",
       "    <tr>\n",
       "      <th>2</th>\n",
       "      <td>11561</td>\n",
       "      <td>No relevent experience</td>\n",
       "      <td>Graduate</td>\n",
       "      <td>83</td>\n",
       "      <td>0.0</td>\n",
       "      <td>0</td>\n",
       "      <td>1</td>\n",
       "      <td>0</td>\n",
       "      <td>0</td>\n",
       "      <td>never</td>\n",
       "      <td>Full time course</td>\n",
       "      <td>level_1</td>\n",
       "      <td>city_index_2</td>\n",
       "    </tr>\n",
       "    <tr>\n",
       "      <th>3</th>\n",
       "      <td>33241</td>\n",
       "      <td>No relevent experience</td>\n",
       "      <td>Graduate</td>\n",
       "      <td>52</td>\n",
       "      <td>1.0</td>\n",
       "      <td>0</td>\n",
       "      <td>1</td>\n",
       "      <td>1</td>\n",
       "      <td>0</td>\n",
       "      <td>never</td>\n",
       "      <td>no_enrollment</td>\n",
       "      <td>level_0</td>\n",
       "      <td>city_index_4</td>\n",
       "    </tr>\n",
       "    <tr>\n",
       "      <th>4</th>\n",
       "      <td>666</td>\n",
       "      <td>Has relevent experience</td>\n",
       "      <td>Masters</td>\n",
       "      <td>8</td>\n",
       "      <td>0.0</td>\n",
       "      <td>1</td>\n",
       "      <td>1</td>\n",
       "      <td>1</td>\n",
       "      <td>1</td>\n",
       "      <td>4</td>\n",
       "      <td>no_enrollment</td>\n",
       "      <td>level_5</td>\n",
       "      <td>city_index_4</td>\n",
       "    </tr>\n",
       "  </tbody>\n",
       "</table>\n",
       "</div>"
      ],
      "text/plain": [
       "  enrollee_id      relevent_experience education_level  training_hours target  gender_ind  major_discipline_ind  company_type_ind  company_size_ind last_new_job_fixed enrolled_university_fixed   xp_cat    ct_idx_cat\n",
       "0        8949  Has relevent experience        Graduate              36    1.0           1                     1                 0                 0                  1             no_enrollment  level_5  city_index_5\n",
       "1       29725   No relevent experience        Graduate              47    0.0           1                     1                 1                 1                 >4             no_enrollment  level_3  city_index_4\n",
       "2       11561   No relevent experience        Graduate              83    0.0           0                     1                 0                 0              never          Full time course  level_1  city_index_2\n",
       "3       33241   No relevent experience        Graduate              52    1.0           0                     1                 1                 0              never             no_enrollment  level_0  city_index_4\n",
       "4         666  Has relevent experience         Masters               8    0.0           1                     1                 1                 1                  4             no_enrollment  level_5  city_index_4"
      ]
     },
     "execution_count": 34,
     "metadata": {},
     "output_type": "execute_result"
    }
   ],
   "source": [
    "# after our transformations, what does our dataset look like?\n",
    "training_df.head()"
   ]
  },
  {
   "cell_type": "code",
   "execution_count": 35,
   "metadata": {},
   "outputs": [
    {
     "data": {
      "text/plain": [
       "enrollee_id                  0\n",
       "relevent_experience          0\n",
       "education_level              0\n",
       "training_hours               0\n",
       "target                       0\n",
       "gender_ind                   0\n",
       "major_discipline_ind         0\n",
       "company_type_ind             0\n",
       "company_size_ind             0\n",
       "last_new_job_fixed           0\n",
       "enrolled_university_fixed    0\n",
       "xp_cat                       0\n",
       "ct_idx_cat                   0\n",
       "dtype: int64"
      ]
     },
     "execution_count": 35,
     "metadata": {},
     "output_type": "execute_result"
    }
   ],
   "source": [
    "# do we still have any null values?\n",
    "training_df.isnull().sum()"
   ]
  },
  {
   "cell_type": "code",
   "execution_count": 36,
   "metadata": {
    "scrolled": true
   },
   "outputs": [
    {
     "data": {
      "text/plain": [
       "enrollee_id                  object\n",
       "relevent_experience          object\n",
       "education_level              object\n",
       "training_hours                int32\n",
       "target                       object\n",
       "gender_ind                   object\n",
       "major_discipline_ind         object\n",
       "company_type_ind             object\n",
       "company_size_ind             object\n",
       "last_new_job_fixed           object\n",
       "enrolled_university_fixed    object\n",
       "xp_cat                       object\n",
       "ct_idx_cat                   object\n",
       "dtype: object"
      ]
     },
     "execution_count": 36,
     "metadata": {},
     "output_type": "execute_result"
    }
   ],
   "source": [
    "# let's make sure our data types are consistent across\n",
    "\n",
    "training_df = training_df.astype(object)\n",
    "training_df['training_hours'] = training_df['training_hours'].astype(int)\n",
    "training_df.dtypes"
   ]
  },
  {
   "cell_type": "code",
   "execution_count": 37,
   "metadata": {},
   "outputs": [],
   "source": [
    "# let's use comprehension to generate a list of variables that have categorical information\n",
    "remove_list = ['enrollee_id','target'] #these guys aren't really categorical or part of the feature set\n",
    "\n",
    "cat_var_list = [x for ind, x in enumerate(training_df.columns) if(training_df.dtypes[ind]!='int32' and x not in remove_list)]\n",
    "num_var_list = [x for ind, x in enumerate(training_df.columns) if(training_df.dtypes[ind]=='int32')]\n",
    "\n",
    "# we separate our feature list into two, so we can safely process our categorical features and generate dummy indicators"
   ]
  },
  {
   "cell_type": "code",
   "execution_count": 38,
   "metadata": {},
   "outputs": [
    {
     "data": {
      "text/html": [
       "<div>\n",
       "<style scoped>\n",
       "    .dataframe tbody tr th:only-of-type {\n",
       "        vertical-align: middle;\n",
       "    }\n",
       "\n",
       "    .dataframe tbody tr th {\n",
       "        vertical-align: top;\n",
       "    }\n",
       "\n",
       "    .dataframe thead th {\n",
       "        text-align: right;\n",
       "    }\n",
       "</style>\n",
       "<table border=\"1\" class=\"dataframe\">\n",
       "  <thead>\n",
       "    <tr style=\"text-align: right;\">\n",
       "      <th></th>\n",
       "      <th>relevent_experience_Has relevent experience</th>\n",
       "      <th>relevent_experience_No relevent experience</th>\n",
       "      <th>education_level_Graduate</th>\n",
       "      <th>education_level_High School</th>\n",
       "      <th>education_level_Masters</th>\n",
       "      <th>education_level_Phd</th>\n",
       "      <th>education_level_Primary School</th>\n",
       "      <th>gender_ind_0</th>\n",
       "      <th>gender_ind_1</th>\n",
       "      <th>major_discipline_ind_0</th>\n",
       "      <th>major_discipline_ind_1</th>\n",
       "      <th>company_type_ind_0</th>\n",
       "      <th>company_type_ind_1</th>\n",
       "      <th>company_size_ind_0</th>\n",
       "      <th>company_size_ind_1</th>\n",
       "      <th>last_new_job_fixed_1</th>\n",
       "      <th>last_new_job_fixed_2</th>\n",
       "      <th>last_new_job_fixed_3</th>\n",
       "      <th>last_new_job_fixed_4</th>\n",
       "      <th>last_new_job_fixed_&gt;4</th>\n",
       "      <th>last_new_job_fixed_never</th>\n",
       "      <th>enrolled_university_fixed_Full time course</th>\n",
       "      <th>enrolled_university_fixed_Part time course</th>\n",
       "      <th>enrolled_university_fixed_no_enrollment</th>\n",
       "      <th>xp_cat_level_0</th>\n",
       "      <th>xp_cat_level_1</th>\n",
       "      <th>xp_cat_level_2</th>\n",
       "      <th>xp_cat_level_3</th>\n",
       "      <th>xp_cat_level_4</th>\n",
       "      <th>xp_cat_level_5</th>\n",
       "      <th>ct_idx_cat_city_index_1</th>\n",
       "      <th>ct_idx_cat_city_index_2</th>\n",
       "      <th>ct_idx_cat_city_index_3</th>\n",
       "      <th>ct_idx_cat_city_index_4</th>\n",
       "      <th>ct_idx_cat_city_index_5</th>\n",
       "      <th>training_hours</th>\n",
       "      <th>target</th>\n",
       "    </tr>\n",
       "  </thead>\n",
       "  <tbody>\n",
       "    <tr>\n",
       "      <th>0</th>\n",
       "      <td>1</td>\n",
       "      <td>0</td>\n",
       "      <td>1</td>\n",
       "      <td>0</td>\n",
       "      <td>0</td>\n",
       "      <td>0</td>\n",
       "      <td>0</td>\n",
       "      <td>0</td>\n",
       "      <td>1</td>\n",
       "      <td>0</td>\n",
       "      <td>1</td>\n",
       "      <td>1</td>\n",
       "      <td>0</td>\n",
       "      <td>1</td>\n",
       "      <td>0</td>\n",
       "      <td>1</td>\n",
       "      <td>0</td>\n",
       "      <td>0</td>\n",
       "      <td>0</td>\n",
       "      <td>0</td>\n",
       "      <td>0</td>\n",
       "      <td>0</td>\n",
       "      <td>0</td>\n",
       "      <td>1</td>\n",
       "      <td>0</td>\n",
       "      <td>0</td>\n",
       "      <td>0</td>\n",
       "      <td>0</td>\n",
       "      <td>0</td>\n",
       "      <td>1</td>\n",
       "      <td>0</td>\n",
       "      <td>0</td>\n",
       "      <td>0</td>\n",
       "      <td>0</td>\n",
       "      <td>1</td>\n",
       "      <td>36</td>\n",
       "      <td>1.0</td>\n",
       "    </tr>\n",
       "    <tr>\n",
       "      <th>1</th>\n",
       "      <td>0</td>\n",
       "      <td>1</td>\n",
       "      <td>1</td>\n",
       "      <td>0</td>\n",
       "      <td>0</td>\n",
       "      <td>0</td>\n",
       "      <td>0</td>\n",
       "      <td>0</td>\n",
       "      <td>1</td>\n",
       "      <td>0</td>\n",
       "      <td>1</td>\n",
       "      <td>0</td>\n",
       "      <td>1</td>\n",
       "      <td>0</td>\n",
       "      <td>1</td>\n",
       "      <td>0</td>\n",
       "      <td>0</td>\n",
       "      <td>0</td>\n",
       "      <td>0</td>\n",
       "      <td>1</td>\n",
       "      <td>0</td>\n",
       "      <td>0</td>\n",
       "      <td>0</td>\n",
       "      <td>1</td>\n",
       "      <td>0</td>\n",
       "      <td>0</td>\n",
       "      <td>0</td>\n",
       "      <td>1</td>\n",
       "      <td>0</td>\n",
       "      <td>0</td>\n",
       "      <td>0</td>\n",
       "      <td>0</td>\n",
       "      <td>0</td>\n",
       "      <td>1</td>\n",
       "      <td>0</td>\n",
       "      <td>47</td>\n",
       "      <td>0.0</td>\n",
       "    </tr>\n",
       "    <tr>\n",
       "      <th>2</th>\n",
       "      <td>0</td>\n",
       "      <td>1</td>\n",
       "      <td>1</td>\n",
       "      <td>0</td>\n",
       "      <td>0</td>\n",
       "      <td>0</td>\n",
       "      <td>0</td>\n",
       "      <td>1</td>\n",
       "      <td>0</td>\n",
       "      <td>0</td>\n",
       "      <td>1</td>\n",
       "      <td>1</td>\n",
       "      <td>0</td>\n",
       "      <td>1</td>\n",
       "      <td>0</td>\n",
       "      <td>0</td>\n",
       "      <td>0</td>\n",
       "      <td>0</td>\n",
       "      <td>0</td>\n",
       "      <td>0</td>\n",
       "      <td>1</td>\n",
       "      <td>1</td>\n",
       "      <td>0</td>\n",
       "      <td>0</td>\n",
       "      <td>0</td>\n",
       "      <td>1</td>\n",
       "      <td>0</td>\n",
       "      <td>0</td>\n",
       "      <td>0</td>\n",
       "      <td>0</td>\n",
       "      <td>0</td>\n",
       "      <td>1</td>\n",
       "      <td>0</td>\n",
       "      <td>0</td>\n",
       "      <td>0</td>\n",
       "      <td>83</td>\n",
       "      <td>0.0</td>\n",
       "    </tr>\n",
       "    <tr>\n",
       "      <th>3</th>\n",
       "      <td>0</td>\n",
       "      <td>1</td>\n",
       "      <td>1</td>\n",
       "      <td>0</td>\n",
       "      <td>0</td>\n",
       "      <td>0</td>\n",
       "      <td>0</td>\n",
       "      <td>1</td>\n",
       "      <td>0</td>\n",
       "      <td>0</td>\n",
       "      <td>1</td>\n",
       "      <td>0</td>\n",
       "      <td>1</td>\n",
       "      <td>1</td>\n",
       "      <td>0</td>\n",
       "      <td>0</td>\n",
       "      <td>0</td>\n",
       "      <td>0</td>\n",
       "      <td>0</td>\n",
       "      <td>0</td>\n",
       "      <td>1</td>\n",
       "      <td>0</td>\n",
       "      <td>0</td>\n",
       "      <td>1</td>\n",
       "      <td>1</td>\n",
       "      <td>0</td>\n",
       "      <td>0</td>\n",
       "      <td>0</td>\n",
       "      <td>0</td>\n",
       "      <td>0</td>\n",
       "      <td>0</td>\n",
       "      <td>0</td>\n",
       "      <td>0</td>\n",
       "      <td>1</td>\n",
       "      <td>0</td>\n",
       "      <td>52</td>\n",
       "      <td>1.0</td>\n",
       "    </tr>\n",
       "    <tr>\n",
       "      <th>4</th>\n",
       "      <td>1</td>\n",
       "      <td>0</td>\n",
       "      <td>0</td>\n",
       "      <td>0</td>\n",
       "      <td>1</td>\n",
       "      <td>0</td>\n",
       "      <td>0</td>\n",
       "      <td>0</td>\n",
       "      <td>1</td>\n",
       "      <td>0</td>\n",
       "      <td>1</td>\n",
       "      <td>0</td>\n",
       "      <td>1</td>\n",
       "      <td>0</td>\n",
       "      <td>1</td>\n",
       "      <td>0</td>\n",
       "      <td>0</td>\n",
       "      <td>0</td>\n",
       "      <td>1</td>\n",
       "      <td>0</td>\n",
       "      <td>0</td>\n",
       "      <td>0</td>\n",
       "      <td>0</td>\n",
       "      <td>1</td>\n",
       "      <td>0</td>\n",
       "      <td>0</td>\n",
       "      <td>0</td>\n",
       "      <td>0</td>\n",
       "      <td>0</td>\n",
       "      <td>1</td>\n",
       "      <td>0</td>\n",
       "      <td>0</td>\n",
       "      <td>0</td>\n",
       "      <td>1</td>\n",
       "      <td>0</td>\n",
       "      <td>8</td>\n",
       "      <td>0.0</td>\n",
       "    </tr>\n",
       "  </tbody>\n",
       "</table>\n",
       "</div>"
      ],
      "text/plain": [
       "   relevent_experience_Has relevent experience  relevent_experience_No relevent experience  education_level_Graduate  education_level_High School  education_level_Masters  education_level_Phd  education_level_Primary School  gender_ind_0  gender_ind_1  major_discipline_ind_0  major_discipline_ind_1  company_type_ind_0  company_type_ind_1  company_size_ind_0  company_size_ind_1  last_new_job_fixed_1  last_new_job_fixed_2  last_new_job_fixed_3  last_new_job_fixed_4  last_new_job_fixed_>4  last_new_job_fixed_never  enrolled_university_fixed_Full time course  enrolled_university_fixed_Part time course  enrolled_university_fixed_no_enrollment  xp_cat_level_0  xp_cat_level_1  xp_cat_level_2  xp_cat_level_3  xp_cat_level_4  xp_cat_level_5  ct_idx_cat_city_index_1  ct_idx_cat_city_index_2  ct_idx_cat_city_index_3  ct_idx_cat_city_index_4  ct_idx_cat_city_index_5  training_hours target\n",
       "0                                            1                                           0                         1                            0                        0                    0                               0             0             1                       0                       1                   1                   0                   1                   0                     1                     0                     0                     0                      0                         0                                           0                                           0                                        1               0               0               0               0               0               1                        0                        0                        0                        0                        1              36    1.0\n",
       "1                                            0                                           1                         1                            0                        0                    0                               0             0             1                       0                       1                   0                   1                   0                   1                     0                     0                     0                     0                      1                         0                                           0                                           0                                        1               0               0               0               1               0               0                        0                        0                        0                        1                        0              47    0.0\n",
       "2                                            0                                           1                         1                            0                        0                    0                               0             1             0                       0                       1                   1                   0                   1                   0                     0                     0                     0                     0                      0                         1                                           1                                           0                                        0               0               1               0               0               0               0                        0                        1                        0                        0                        0              83    0.0\n",
       "3                                            0                                           1                         1                            0                        0                    0                               0             1             0                       0                       1                   0                   1                   1                   0                     0                     0                     0                     0                      0                         1                                           0                                           0                                        1               1               0               0               0               0               0                        0                        0                        0                        1                        0              52    1.0\n",
       "4                                            1                                           0                         0                            0                        1                    0                               0             0             1                       0                       1                   0                   1                   0                   1                     0                     0                     0                     1                      0                         0                                           0                                           0                                        1               0               0               0               0               0               1                        0                        0                        0                        1                        0               8    0.0"
      ]
     },
     "execution_count": 38,
     "metadata": {},
     "output_type": "execute_result"
    }
   ],
   "source": [
    "# convert to dummy variables\n",
    "cat_processed_training_df = pd.get_dummies(training_df[cat_var_list],cat_var_list)\n",
    "# this takes a categorical variable, converts each value into a column, and assigns a 1 or 0 as indicator of that value\n",
    "\n",
    "# for consistency, lets place our numerical features here\n",
    "num_processed_training_df = training_df[num_var_list]\n",
    "\n",
    "# let's finalize the training data set by combining the two groups into one dataframe\n",
    "final_training_df = pd.concat([cat_processed_training_df,num_processed_training_df,training_df['target']],axis=1)\n",
    "final_training_df.head()\n",
    "\n",
    "# let's look at our finalized analytical base table"
   ]
  },
  {
   "cell_type": "code",
   "execution_count": 39,
   "metadata": {},
   "outputs": [
    {
     "data": {
      "text/plain": [
       "(18698, 37)"
      ]
     },
     "execution_count": 39,
     "metadata": {},
     "output_type": "execute_result"
    }
   ],
   "source": [
    "final_training_df.shape # rows, columns"
   ]
  },
  {
   "cell_type": "markdown",
   "metadata": {},
   "source": [
    "# Train and Test Split"
   ]
  },
  {
   "cell_type": "code",
   "execution_count": 40,
   "metadata": {},
   "outputs": [],
   "source": [
    "# setup train and test split strategy\n",
    "X = final_training_df.loc[:, final_training_df.columns != 'target']\n",
    "y = final_training_df['target'].astype(float) # convert to float\n",
    "\n",
    "# here we do a few things: 1) separate our data set into 30% and 70% splits\n",
    "# 70% will be used for as training data set\n",
    "# 30% will be used to test the resulting model\n",
    "# X represents our features\n",
    "# y reprsents our target variable (1 is most likely to apply to the company after the training)\n",
    "X_train, X_test, y_train, y_test = train_test_split(X, y, test_size=0.3, random_state=0)\n",
    "columns = final_training_df.loc[:, final_training_df.columns != 'target'].columns \n",
    "# we keep the column names to be used later"
   ]
  },
  {
   "cell_type": "markdown",
   "metadata": {},
   "source": [
    "# Logistic Regression (Base model)"
   ]
  },
  {
   "cell_type": "code",
   "execution_count": 41,
   "metadata": {},
   "outputs": [
    {
     "data": {
      "text/plain": [
       "LogisticRegression(random_state=0)"
      ]
     },
     "execution_count": 41,
     "metadata": {},
     "output_type": "execute_result"
    }
   ],
   "source": [
    "# Base model using all variables\n",
    "logreg = LogisticRegression(random_state=0)\n",
    "\n",
    "# Let's input our training data set and fit our model\n",
    "logreg.fit(X_train, y_train)"
   ]
  },
  {
   "cell_type": "code",
   "execution_count": 42,
   "metadata": {},
   "outputs": [
    {
     "data": {
      "text/plain": [
       "array([0., 1., 0., ..., 1., 0., 0.])"
      ]
     },
     "execution_count": 42,
     "metadata": {},
     "output_type": "execute_result"
    }
   ],
   "source": [
    "# predict against X_test\n",
    "y_pred = logreg.predict(X_test)\n",
    "y_pred"
   ]
  },
  {
   "cell_type": "markdown",
   "metadata": {},
   "source": [
    "# Model Metrics"
   ]
  },
  {
   "cell_type": "markdown",
   "metadata": {},
   "source": [
    "Let's look at some metrics to see how our classifier performed"
   ]
  },
  {
   "cell_type": "markdown",
   "metadata": {},
   "source": [
    "![Confusion Matrix](https://www.svds.com/wp-content/uploads/2015/08/matrix.png \"Confusion Matrix\")"
   ]
  },
  {
   "cell_type": "code",
   "execution_count": 43,
   "metadata": {},
   "outputs": [
    {
     "data": {
      "image/png": "[encoded data removed]",
      "text/plain": [
       "<Figure size 720x720 with 2 Axes>"
      ]
     },
     "metadata": {
      "needs_background": "light"
     },
     "output_type": "display_data"
    }
   ],
   "source": [
    "fig, ax = plt.subplots(figsize=(10, 10))\n",
    "plot_confusion_matrix(logreg, X_test, y_test, ax=ax)  \n",
    "plt.show()  "
   ]
  },
  {
   "attachments": {},
   "cell_type": "markdown",
   "metadata": {},
   "source": [
    "![Key Metrics](https://miro.medium.com/max/1872/1*pOtBHai4jFd-ujaNXPilRg.png \"Key Metrics\")"
   ]
  },
  {
   "cell_type": "code",
   "execution_count": 44,
   "metadata": {},
   "outputs": [
    {
     "data": {
      "text/plain": [
       "0.571921749136939"
      ]
     },
     "execution_count": 44,
     "metadata": {},
     "output_type": "execute_result"
    }
   ],
   "source": [
    "# How much are classified in the positive class that are ACTUALLY positive?\n",
    "# Returns mostly positive instances.\n",
    "precision_score(y_test,y_pred)"
   ]
  },
  {
   "cell_type": "code",
   "execution_count": 45,
   "metadata": {},
   "outputs": [
    {
     "data": {
      "text/plain": [
       "0.36303871439006574"
      ]
     },
     "execution_count": 45,
     "metadata": {},
     "output_type": "execute_result"
    }
   ],
   "source": [
    "# How much of the  positives did we correctly classify as positive?\n",
    "# Finds as many positive instances as possible.\n",
    "recall_score(y_test,y_pred)"
   ]
  },
  {
   "cell_type": "code",
   "execution_count": 46,
   "metadata": {},
   "outputs": [
    {
     "data": {
      "text/plain": [
       "0.77825311942959"
      ]
     },
     "execution_count": 46,
     "metadata": {},
     "output_type": "execute_result"
    }
   ],
   "source": [
    "# How much of the total did we predict correctly?\n",
    "# The closer to 1 the better (meaning 100% accurate)\n",
    "accuracy_score( y_test,y_pred)"
   ]
  },
  {
   "cell_type": "markdown",
   "metadata": {},
   "source": [
    "An ROC curve (receiver operating characteristic curve) is a graph showing the performance of a classification model at all classification thresholds.\n",
    "\n",
    "AUC stands for \"Area under the ROC Curve.\" That is, AUC measures the entire two-dimensional area underneath the entire ROC curve (think integral calculus) from (0,0) to (1,1).\n",
    "\n",
    "![ROC AUC](https://glassboxmedicine.files.wordpress.com/2019/02/roc-curve-v2.png?w=576 \"ROC AUC\")\n",
    "\n",
    "\n",
    "ROC is a probability curve and AUC represents the degree or measure of separability. It tells how much the model is capable of distinguishing between classes. Higher the AUC, the better the model is at predicting 0s as 0s and 1s as 1s.\n",
    "\n",
    "\n",
    "![TPR FPR](https://ichi.pro/assets/images/max/724/1*W9PRpuARdhgm_Nrd-5HhuA.png \"TPR FPR\")\n",
    "\n",
    "To generate the ROC Curve we compute the TPR and FPR for using our model and a random classifier (no skill) and plot the resulting values"
   ]
  },
  {
   "cell_type": "code",
   "execution_count": 47,
   "metadata": {},
   "outputs": [
    {
     "name": "stdout",
     "output_type": "stream",
     "text": [
      "No Skill: ROC AUC=0.500\n",
      "Logistic: ROC AUC=0.782\n"
     ]
    },
    {
     "data": {
      "image/png": "[encoded data removed]",
      "text/plain": [
       "<Figure size 432x288 with 1 Axes>"
      ]
     },
     "metadata": {
      "needs_background": "light"
     },
     "output_type": "display_data"
    }
   ],
   "source": [
    "# generate a no skill prediction (majority class)\n",
    "ns_probs = [0 for _ in range(len(y_test))]\n",
    "lr_probs = logreg.predict_proba(X_test)\n",
    "# keep probabilities for the positive outcome only\n",
    "lr_probs = lr_probs[:, 1]\n",
    "# calculate scores\n",
    "ns_auc = roc_auc_score(y_test, ns_probs)\n",
    "lr_auc = roc_auc_score(y_test, lr_probs)\n",
    "# summarize scores\n",
    "print('No Skill: ROC AUC=%.3f' % (ns_auc))\n",
    "print('Logistic: ROC AUC=%.3f' % (lr_auc))\n",
    "# calculate roc curves\n",
    "ns_fpr, ns_tpr, _ = roc_curve(y_test, ns_probs)\n",
    "lr_fpr, lr_tpr, _ = roc_curve(y_test, lr_probs)\n",
    "# plot the roc curve for the model\n",
    "plt.plot(ns_fpr, ns_tpr, linestyle='--', label='No Skill')\n",
    "plt.plot(lr_fpr, lr_tpr, marker='.', label='Logistic')\n",
    "# axis labels\n",
    "plt.xlabel('False Positive Rate')\n",
    "plt.ylabel('True Positive Rate')\n",
    "# show the legend\n",
    "plt.legend()\n",
    "# show the plot\n",
    "plt.show()"
   ]
  },
  {
   "cell_type": "markdown",
   "metadata": {},
   "source": [
    "# Logistic Regression (Optimized using RFE)"
   ]
  },
  {
   "cell_type": "markdown",
   "metadata": {},
   "source": [
    "RFE works by recursively removing attributes and building a model on attributes that remain. It uses model accuracy (by default) to identify which attributes (and combinations of attributes) contribute the most to predicting the target attribute.\n",
    "\n",
    "\n",
    "![RFE](https://miro.medium.com/max/1078/1*GtT1JXyPL7LNHa9EVrtcfg.png \"RFE\")"
   ]
  },
  {
   "cell_type": "code",
   "execution_count": 48,
   "metadata": {},
   "outputs": [],
   "source": [
    "# Recursive Feature Elimination - iterate thru features and \n",
    "# Using RFE to prioritize variables based on feature importance (default uses coef_ or feature_importances_)\n",
    "\n",
    "#identify top x most significant features (default uses half)\n",
    "rfe_logreg = LogisticRegression(random_state=0)\n",
    "rfe = RFE(rfe_logreg) # if no value is passed for no. of features to identify, it will default to half of total features\n",
    "rfe = rfe.fit(X_train, y_train)\n"
   ]
  },
  {
   "cell_type": "code",
   "execution_count": 49,
   "metadata": {},
   "outputs": [
    {
     "data": {
      "text/html": [
       "<div>\n",
       "<style scoped>\n",
       "    .dataframe tbody tr th:only-of-type {\n",
       "        vertical-align: middle;\n",
       "    }\n",
       "\n",
       "    .dataframe tbody tr th {\n",
       "        vertical-align: top;\n",
       "    }\n",
       "\n",
       "    .dataframe thead th {\n",
       "        text-align: right;\n",
       "    }\n",
       "</style>\n",
       "<table border=\"1\" class=\"dataframe\">\n",
       "  <thead>\n",
       "    <tr style=\"text-align: right;\">\n",
       "      <th></th>\n",
       "      <th>name</th>\n",
       "      <th>support</th>\n",
       "      <th>rank</th>\n",
       "    </tr>\n",
       "  </thead>\n",
       "  <tbody>\n",
       "    <tr>\n",
       "      <th>0</th>\n",
       "      <td>relevent_experience_Has relevent experience</td>\n",
       "      <td>False</td>\n",
       "      <td>4</td>\n",
       "    </tr>\n",
       "    <tr>\n",
       "      <th>1</th>\n",
       "      <td>relevent_experience_No relevent experience</td>\n",
       "      <td>True</td>\n",
       "      <td>1</td>\n",
       "    </tr>\n",
       "    <tr>\n",
       "      <th>2</th>\n",
       "      <td>education_level_Graduate</td>\n",
       "      <td>True</td>\n",
       "      <td>1</td>\n",
       "    </tr>\n",
       "    <tr>\n",
       "      <th>3</th>\n",
       "      <td>education_level_High School</td>\n",
       "      <td>False</td>\n",
       "      <td>15</td>\n",
       "    </tr>\n",
       "    <tr>\n",
       "      <th>4</th>\n",
       "      <td>education_level_Masters</td>\n",
       "      <td>False</td>\n",
       "      <td>2</td>\n",
       "    </tr>\n",
       "    <tr>\n",
       "      <th>5</th>\n",
       "      <td>education_level_Phd</td>\n",
       "      <td>False</td>\n",
       "      <td>17</td>\n",
       "    </tr>\n",
       "    <tr>\n",
       "      <th>6</th>\n",
       "      <td>education_level_Primary School</td>\n",
       "      <td>True</td>\n",
       "      <td>1</td>\n",
       "    </tr>\n",
       "    <tr>\n",
       "      <th>7</th>\n",
       "      <td>gender_ind_0</td>\n",
       "      <td>False</td>\n",
       "      <td>16</td>\n",
       "    </tr>\n",
       "    <tr>\n",
       "      <th>8</th>\n",
       "      <td>gender_ind_1</td>\n",
       "      <td>False</td>\n",
       "      <td>9</td>\n",
       "    </tr>\n",
       "    <tr>\n",
       "      <th>9</th>\n",
       "      <td>major_discipline_ind_0</td>\n",
       "      <td>True</td>\n",
       "      <td>1</td>\n",
       "    </tr>\n",
       "    <tr>\n",
       "      <th>10</th>\n",
       "      <td>major_discipline_ind_1</td>\n",
       "      <td>True</td>\n",
       "      <td>1</td>\n",
       "    </tr>\n",
       "    <tr>\n",
       "      <th>11</th>\n",
       "      <td>company_type_ind_0</td>\n",
       "      <td>True</td>\n",
       "      <td>1</td>\n",
       "    </tr>\n",
       "    <tr>\n",
       "      <th>12</th>\n",
       "      <td>company_type_ind_1</td>\n",
       "      <td>True</td>\n",
       "      <td>1</td>\n",
       "    </tr>\n",
       "    <tr>\n",
       "      <th>13</th>\n",
       "      <td>company_size_ind_0</td>\n",
       "      <td>True</td>\n",
       "      <td>1</td>\n",
       "    </tr>\n",
       "    <tr>\n",
       "      <th>14</th>\n",
       "      <td>company_size_ind_1</td>\n",
       "      <td>True</td>\n",
       "      <td>1</td>\n",
       "    </tr>\n",
       "    <tr>\n",
       "      <th>15</th>\n",
       "      <td>last_new_job_fixed_1</td>\n",
       "      <td>False</td>\n",
       "      <td>14</td>\n",
       "    </tr>\n",
       "    <tr>\n",
       "      <th>16</th>\n",
       "      <td>last_new_job_fixed_2</td>\n",
       "      <td>False</td>\n",
       "      <td>13</td>\n",
       "    </tr>\n",
       "    <tr>\n",
       "      <th>17</th>\n",
       "      <td>last_new_job_fixed_3</td>\n",
       "      <td>False</td>\n",
       "      <td>8</td>\n",
       "    </tr>\n",
       "    <tr>\n",
       "      <th>18</th>\n",
       "      <td>last_new_job_fixed_4</td>\n",
       "      <td>False</td>\n",
       "      <td>5</td>\n",
       "    </tr>\n",
       "    <tr>\n",
       "      <th>19</th>\n",
       "      <td>last_new_job_fixed_&gt;4</td>\n",
       "      <td>False</td>\n",
       "      <td>12</td>\n",
       "    </tr>\n",
       "    <tr>\n",
       "      <th>20</th>\n",
       "      <td>last_new_job_fixed_never</td>\n",
       "      <td>True</td>\n",
       "      <td>1</td>\n",
       "    </tr>\n",
       "    <tr>\n",
       "      <th>21</th>\n",
       "      <td>enrolled_university_fixed_Full time course</td>\n",
       "      <td>False</td>\n",
       "      <td>10</td>\n",
       "    </tr>\n",
       "    <tr>\n",
       "      <th>22</th>\n",
       "      <td>enrolled_university_fixed_Part time course</td>\n",
       "      <td>False</td>\n",
       "      <td>11</td>\n",
       "    </tr>\n",
       "    <tr>\n",
       "      <th>23</th>\n",
       "      <td>enrolled_university_fixed_no_enrollment</td>\n",
       "      <td>True</td>\n",
       "      <td>1</td>\n",
       "    </tr>\n",
       "    <tr>\n",
       "      <th>24</th>\n",
       "      <td>xp_cat_level_0</td>\n",
       "      <td>True</td>\n",
       "      <td>1</td>\n",
       "    </tr>\n",
       "    <tr>\n",
       "      <th>25</th>\n",
       "      <td>xp_cat_level_1</td>\n",
       "      <td>False</td>\n",
       "      <td>3</td>\n",
       "    </tr>\n",
       "    <tr>\n",
       "      <th>26</th>\n",
       "      <td>xp_cat_level_2</td>\n",
       "      <td>False</td>\n",
       "      <td>18</td>\n",
       "    </tr>\n",
       "    <tr>\n",
       "      <th>27</th>\n",
       "      <td>xp_cat_level_3</td>\n",
       "      <td>False</td>\n",
       "      <td>7</td>\n",
       "    </tr>\n",
       "    <tr>\n",
       "      <th>28</th>\n",
       "      <td>xp_cat_level_4</td>\n",
       "      <td>False</td>\n",
       "      <td>6</td>\n",
       "    </tr>\n",
       "    <tr>\n",
       "      <th>29</th>\n",
       "      <td>xp_cat_level_5</td>\n",
       "      <td>True</td>\n",
       "      <td>1</td>\n",
       "    </tr>\n",
       "    <tr>\n",
       "      <th>30</th>\n",
       "      <td>ct_idx_cat_city_index_1</td>\n",
       "      <td>True</td>\n",
       "      <td>1</td>\n",
       "    </tr>\n",
       "    <tr>\n",
       "      <th>31</th>\n",
       "      <td>ct_idx_cat_city_index_2</td>\n",
       "      <td>True</td>\n",
       "      <td>1</td>\n",
       "    </tr>\n",
       "    <tr>\n",
       "      <th>32</th>\n",
       "      <td>ct_idx_cat_city_index_3</td>\n",
       "      <td>True</td>\n",
       "      <td>1</td>\n",
       "    </tr>\n",
       "    <tr>\n",
       "      <th>33</th>\n",
       "      <td>ct_idx_cat_city_index_4</td>\n",
       "      <td>True</td>\n",
       "      <td>1</td>\n",
       "    </tr>\n",
       "    <tr>\n",
       "      <th>34</th>\n",
       "      <td>ct_idx_cat_city_index_5</td>\n",
       "      <td>True</td>\n",
       "      <td>1</td>\n",
       "    </tr>\n",
       "    <tr>\n",
       "      <th>35</th>\n",
       "      <td>training_hours</td>\n",
       "      <td>False</td>\n",
       "      <td>19</td>\n",
       "    </tr>\n",
       "  </tbody>\n",
       "</table>\n",
       "</div>"
      ],
      "text/plain": [
       "                                           name support rank\n",
       "0   relevent_experience_Has relevent experience   False    4\n",
       "1    relevent_experience_No relevent experience    True    1\n",
       "2                      education_level_Graduate    True    1\n",
       "3                   education_level_High School   False   15\n",
       "4                       education_level_Masters   False    2\n",
       "5                           education_level_Phd   False   17\n",
       "6                education_level_Primary School    True    1\n",
       "7                                  gender_ind_0   False   16\n",
       "8                                  gender_ind_1   False    9\n",
       "9                        major_discipline_ind_0    True    1\n",
       "10                       major_discipline_ind_1    True    1\n",
       "11                           company_type_ind_0    True    1\n",
       "12                           company_type_ind_1    True    1\n",
       "13                           company_size_ind_0    True    1\n",
       "14                           company_size_ind_1    True    1\n",
       "15                         last_new_job_fixed_1   False   14\n",
       "16                         last_new_job_fixed_2   False   13\n",
       "17                         last_new_job_fixed_3   False    8\n",
       "18                         last_new_job_fixed_4   False    5\n",
       "19                        last_new_job_fixed_>4   False   12\n",
       "20                     last_new_job_fixed_never    True    1\n",
       "21   enrolled_university_fixed_Full time course   False   10\n",
       "22   enrolled_university_fixed_Part time course   False   11\n",
       "23      enrolled_university_fixed_no_enrollment    True    1\n",
       "24                               xp_cat_level_0    True    1\n",
       "25                               xp_cat_level_1   False    3\n",
       "26                               xp_cat_level_2   False   18\n",
       "27                               xp_cat_level_3   False    7\n",
       "28                               xp_cat_level_4   False    6\n",
       "29                               xp_cat_level_5    True    1\n",
       "30                      ct_idx_cat_city_index_1    True    1\n",
       "31                      ct_idx_cat_city_index_2    True    1\n",
       "32                      ct_idx_cat_city_index_3    True    1\n",
       "33                      ct_idx_cat_city_index_4    True    1\n",
       "34                      ct_idx_cat_city_index_5    True    1\n",
       "35                               training_hours   False   19"
      ]
     },
     "execution_count": 49,
     "metadata": {},
     "output_type": "execute_result"
    }
   ],
   "source": [
    "# Let's make the results more human readable\n",
    "rfe_df = pd.DataFrame([columns,rfe.support_,rfe.ranking_]).T\n",
    "rfe_df.columns = ['name','support','rank']\n",
    "rfe_df\n",
    "\n",
    "# rank 1 or true means that the RFE method recommends these features to be used as it helps to increase accuracy metric\n",
    "# given the restriction on no. of features (half of total features by default)"
   ]
  },
  {
   "cell_type": "code",
   "execution_count": 50,
   "metadata": {},
   "outputs": [
    {
     "data": {
      "text/html": [
       "<div>\n",
       "<style scoped>\n",
       "    .dataframe tbody tr th:only-of-type {\n",
       "        vertical-align: middle;\n",
       "    }\n",
       "\n",
       "    .dataframe tbody tr th {\n",
       "        vertical-align: top;\n",
       "    }\n",
       "\n",
       "    .dataframe thead th {\n",
       "        text-align: right;\n",
       "    }\n",
       "</style>\n",
       "<table border=\"1\" class=\"dataframe\">\n",
       "  <thead>\n",
       "    <tr style=\"text-align: right;\">\n",
       "      <th></th>\n",
       "      <th>name</th>\n",
       "      <th>support</th>\n",
       "      <th>rank</th>\n",
       "    </tr>\n",
       "  </thead>\n",
       "  <tbody>\n",
       "    <tr>\n",
       "      <th>1</th>\n",
       "      <td>relevent_experience_No relevent experience</td>\n",
       "      <td>True</td>\n",
       "      <td>1</td>\n",
       "    </tr>\n",
       "    <tr>\n",
       "      <th>2</th>\n",
       "      <td>education_level_Graduate</td>\n",
       "      <td>True</td>\n",
       "      <td>1</td>\n",
       "    </tr>\n",
       "    <tr>\n",
       "      <th>6</th>\n",
       "      <td>education_level_Primary School</td>\n",
       "      <td>True</td>\n",
       "      <td>1</td>\n",
       "    </tr>\n",
       "    <tr>\n",
       "      <th>9</th>\n",
       "      <td>major_discipline_ind_0</td>\n",
       "      <td>True</td>\n",
       "      <td>1</td>\n",
       "    </tr>\n",
       "    <tr>\n",
       "      <th>10</th>\n",
       "      <td>major_discipline_ind_1</td>\n",
       "      <td>True</td>\n",
       "      <td>1</td>\n",
       "    </tr>\n",
       "    <tr>\n",
       "      <th>11</th>\n",
       "      <td>company_type_ind_0</td>\n",
       "      <td>True</td>\n",
       "      <td>1</td>\n",
       "    </tr>\n",
       "    <tr>\n",
       "      <th>12</th>\n",
       "      <td>company_type_ind_1</td>\n",
       "      <td>True</td>\n",
       "      <td>1</td>\n",
       "    </tr>\n",
       "    <tr>\n",
       "      <th>13</th>\n",
       "      <td>company_size_ind_0</td>\n",
       "      <td>True</td>\n",
       "      <td>1</td>\n",
       "    </tr>\n",
       "    <tr>\n",
       "      <th>14</th>\n",
       "      <td>company_size_ind_1</td>\n",
       "      <td>True</td>\n",
       "      <td>1</td>\n",
       "    </tr>\n",
       "    <tr>\n",
       "      <th>20</th>\n",
       "      <td>last_new_job_fixed_never</td>\n",
       "      <td>True</td>\n",
       "      <td>1</td>\n",
       "    </tr>\n",
       "    <tr>\n",
       "      <th>23</th>\n",
       "      <td>enrolled_university_fixed_no_enrollment</td>\n",
       "      <td>True</td>\n",
       "      <td>1</td>\n",
       "    </tr>\n",
       "    <tr>\n",
       "      <th>24</th>\n",
       "      <td>xp_cat_level_0</td>\n",
       "      <td>True</td>\n",
       "      <td>1</td>\n",
       "    </tr>\n",
       "    <tr>\n",
       "      <th>29</th>\n",
       "      <td>xp_cat_level_5</td>\n",
       "      <td>True</td>\n",
       "      <td>1</td>\n",
       "    </tr>\n",
       "    <tr>\n",
       "      <th>30</th>\n",
       "      <td>ct_idx_cat_city_index_1</td>\n",
       "      <td>True</td>\n",
       "      <td>1</td>\n",
       "    </tr>\n",
       "    <tr>\n",
       "      <th>31</th>\n",
       "      <td>ct_idx_cat_city_index_2</td>\n",
       "      <td>True</td>\n",
       "      <td>1</td>\n",
       "    </tr>\n",
       "    <tr>\n",
       "      <th>32</th>\n",
       "      <td>ct_idx_cat_city_index_3</td>\n",
       "      <td>True</td>\n",
       "      <td>1</td>\n",
       "    </tr>\n",
       "    <tr>\n",
       "      <th>33</th>\n",
       "      <td>ct_idx_cat_city_index_4</td>\n",
       "      <td>True</td>\n",
       "      <td>1</td>\n",
       "    </tr>\n",
       "    <tr>\n",
       "      <th>34</th>\n",
       "      <td>ct_idx_cat_city_index_5</td>\n",
       "      <td>True</td>\n",
       "      <td>1</td>\n",
       "    </tr>\n",
       "  </tbody>\n",
       "</table>\n",
       "</div>"
      ],
      "text/plain": [
       "                                          name support rank\n",
       "1   relevent_experience_No relevent experience    True    1\n",
       "2                     education_level_Graduate    True    1\n",
       "6               education_level_Primary School    True    1\n",
       "9                       major_discipline_ind_0    True    1\n",
       "10                      major_discipline_ind_1    True    1\n",
       "11                          company_type_ind_0    True    1\n",
       "12                          company_type_ind_1    True    1\n",
       "13                          company_size_ind_0    True    1\n",
       "14                          company_size_ind_1    True    1\n",
       "20                    last_new_job_fixed_never    True    1\n",
       "23     enrolled_university_fixed_no_enrollment    True    1\n",
       "24                              xp_cat_level_0    True    1\n",
       "29                              xp_cat_level_5    True    1\n",
       "30                     ct_idx_cat_city_index_1    True    1\n",
       "31                     ct_idx_cat_city_index_2    True    1\n",
       "32                     ct_idx_cat_city_index_3    True    1\n",
       "33                     ct_idx_cat_city_index_4    True    1\n",
       "34                     ct_idx_cat_city_index_5    True    1"
      ]
     },
     "execution_count": 50,
     "metadata": {},
     "output_type": "execute_result"
    }
   ],
   "source": [
    "# List of recommended variables\n",
    "rfe_df[rfe_df['support']==True]"
   ]
  },
  {
   "cell_type": "code",
   "execution_count": 51,
   "metadata": {},
   "outputs": [],
   "source": [
    "# what factors are more likely to support a student to actually apply to the company and change jobs?"
   ]
  },
  {
   "cell_type": "code",
   "execution_count": 52,
   "metadata": {},
   "outputs": [
    {
     "data": {
      "text/plain": [
       "(18, 3)"
      ]
     },
     "execution_count": 52,
     "metadata": {},
     "output_type": "execute_result"
    }
   ],
   "source": [
    "rfe_df[rfe_df['support']==True].shape  # We'll only use the top 18 features (half of total)"
   ]
  },
  {
   "cell_type": "markdown",
   "metadata": {},
   "source": [
    "# Remodel using prioritized features"
   ]
  },
  {
   "cell_type": "code",
   "execution_count": 53,
   "metadata": {},
   "outputs": [],
   "source": [
    "# Let's filter our train data set to the prioritized features\n",
    "prioritized_features = rfe_df[rfe_df['support']==True]['name'].values\n",
    "prioritized_X_train = X_train[prioritized_features]"
   ]
  },
  {
   "cell_type": "code",
   "execution_count": 54,
   "metadata": {},
   "outputs": [
    {
     "data": {
      "text/plain": [
       "LogisticRegression(random_state=0, solver='liblinear')"
      ]
     },
     "execution_count": 54,
     "metadata": {},
     "output_type": "execute_result"
    }
   ],
   "source": [
    "# Use the new training data set to train/fit our new model\n",
    "logreg2 = LogisticRegression(random_state=0,solver='liblinear',max_iter=100)\n",
    "logreg2.fit(prioritized_X_train, y_train)"
   ]
  },
  {
   "cell_type": "code",
   "execution_count": 55,
   "metadata": {},
   "outputs": [
    {
     "data": {
      "text/plain": [
       "array([0., 1., 0., ..., 1., 0., 0.])"
      ]
     },
     "execution_count": 55,
     "metadata": {},
     "output_type": "execute_result"
    }
   ],
   "source": [
    "# predict against X test\n",
    "prioritized_y_pred = logreg2.predict(X_test[prioritized_features])\n",
    "prioritized_y_pred"
   ]
  },
  {
   "cell_type": "markdown",
   "metadata": {},
   "source": [
    "# Model Metrics"
   ]
  },
  {
   "cell_type": "code",
   "execution_count": 56,
   "metadata": {},
   "outputs": [
    {
     "data": {
      "image/png": "[encoded data removed]",
      "text/plain": [
       "<Figure size 720x720 with 2 Axes>"
      ]
     },
     "metadata": {
      "needs_background": "light"
     },
     "output_type": "display_data"
    }
   ],
   "source": [
    "# confusion matrix\n",
    "fig, ax = plt.subplots(figsize=(10, 10))\n",
    "plot_confusion_matrix(logreg2, X_test[prioritized_features], y_test, ax=ax)  \n",
    "plt.show()  "
   ]
  },
  {
   "cell_type": "code",
   "execution_count": 57,
   "metadata": {},
   "outputs": [
    {
     "data": {
      "text/plain": [
       "0.5587892898719441"
      ]
     },
     "execution_count": 57,
     "metadata": {},
     "output_type": "execute_result"
    }
   ],
   "source": [
    "precision_score(y_test,prioritized_y_pred) "
   ]
  },
  {
   "cell_type": "code",
   "execution_count": 58,
   "metadata": {},
   "outputs": [
    {
     "data": {
      "text/plain": [
       "0.3506208911614317"
      ]
     },
     "execution_count": 58,
     "metadata": {},
     "output_type": "execute_result"
    }
   ],
   "source": [
    "recall_score(y_test,prioritized_y_pred) "
   ]
  },
  {
   "cell_type": "code",
   "execution_count": 59,
   "metadata": {},
   "outputs": [
    {
     "data": {
      "text/plain": [
       "0.7739750445632798"
      ]
     },
     "execution_count": 59,
     "metadata": {},
     "output_type": "execute_result"
    }
   ],
   "source": [
    "accuracy_score(y_test,prioritized_y_pred) "
   ]
  },
  {
   "cell_type": "code",
   "execution_count": 60,
   "metadata": {},
   "outputs": [
    {
     "name": "stdout",
     "output_type": "stream",
     "text": [
      "No Skill: ROC AUC=0.50000\n",
      "Logistic: ROC AUC=0.78230\n"
     ]
    },
    {
     "data": {
      "image/png": "[encoded data removed]",
      "text/plain": [
       "<Figure size 432x288 with 1 Axes>"
      ]
     },
     "metadata": {
      "needs_background": "light"
     },
     "output_type": "display_data"
    }
   ],
   "source": [
    "# generate a no skill prediction (majority class)\n",
    "ns_probs = [0 for _ in range(len(y_test))]\n",
    "lr_probs = logreg2.predict_proba(X_test[prioritized_features])\n",
    "# keep probabilities for the positive outcome only\n",
    "lr_probs = lr_probs[:, 1]\n",
    "# calculate scores\n",
    "ns_auc = roc_auc_score(y_test, ns_probs)\n",
    "prioritized_lr_auc = roc_auc_score(y_test, lr_probs)\n",
    "# summarize scores\n",
    "print('No Skill: ROC AUC=%.5f' % (ns_auc))\n",
    "print('Logistic: ROC AUC=%.5f' % (prioritized_lr_auc))\n",
    "# calculate roc curves\n",
    "ns_fpr, ns_tpr, _ = roc_curve(y_test, ns_probs)\n",
    "lr_fpr, lr_tpr, _ = roc_curve(y_test, lr_probs)\n",
    "# plot the roc curve for the model\n",
    "plt.plot(ns_fpr, ns_tpr, linestyle='--', label='No Skill')\n",
    "plt.plot(lr_fpr, lr_tpr, marker='.', label='Logistic')\n",
    "# axis labels\n",
    "plt.xlabel('False Positive Rate')\n",
    "plt.ylabel('True Positive Rate')\n",
    "# show the legend\n",
    "plt.legend()\n",
    "# show the plot\n",
    "plt.show()"
   ]
  },
  {
   "cell_type": "markdown",
   "metadata": {},
   "source": [
    "# Is our model now much better off now compared than before? why? why not?"
   ]
  },
  {
   "cell_type": "code",
   "execution_count": 61,
   "metadata": {},
   "outputs": [
    {
     "data": {
      "text/html": [
       "<div>\n",
       "<style scoped>\n",
       "    .dataframe tbody tr th:only-of-type {\n",
       "        vertical-align: middle;\n",
       "    }\n",
       "\n",
       "    .dataframe tbody tr th {\n",
       "        vertical-align: top;\n",
       "    }\n",
       "\n",
       "    .dataframe thead th {\n",
       "        text-align: right;\n",
       "    }\n",
       "</style>\n",
       "<table border=\"1\" class=\"dataframe\">\n",
       "  <thead>\n",
       "    <tr style=\"text-align: right;\">\n",
       "      <th></th>\n",
       "      <th>base</th>\n",
       "      <th>prioritized</th>\n",
       "    </tr>\n",
       "  </thead>\n",
       "  <tbody>\n",
       "    <tr>\n",
       "      <th>precision</th>\n",
       "      <td>0.571922</td>\n",
       "      <td>0.558789</td>\n",
       "    </tr>\n",
       "    <tr>\n",
       "      <th>recall</th>\n",
       "      <td>0.363039</td>\n",
       "      <td>0.350621</td>\n",
       "    </tr>\n",
       "    <tr>\n",
       "      <th>accuracy</th>\n",
       "      <td>0.778253</td>\n",
       "      <td>0.773975</td>\n",
       "    </tr>\n",
       "    <tr>\n",
       "      <th>roc auc</th>\n",
       "      <td>0.781792</td>\n",
       "      <td>0.782304</td>\n",
       "    </tr>\n",
       "  </tbody>\n",
       "</table>\n",
       "</div>"
      ],
      "text/plain": [
       "               base  prioritized\n",
       "precision  0.571922     0.558789\n",
       "recall     0.363039     0.350621\n",
       "accuracy   0.778253     0.773975\n",
       "roc auc    0.781792     0.782304"
      ]
     },
     "execution_count": 61,
     "metadata": {},
     "output_type": "execute_result"
    }
   ],
   "source": [
    "base = {\"precision\":precision_score(y_test,y_pred),\"recall\":recall_score(y_test,y_pred),\"accuracy\":accuracy_score(y_test,y_pred),\"roc auc\":lr_auc}\n",
    "prio = {\"precision\":precision_score(y_test,prioritized_y_pred),\"recall\":recall_score(y_test,prioritized_y_pred),\"accuracy\":accuracy_score(y_test,prioritized_y_pred),\"roc auc\":prioritized_lr_auc}\n",
    "\n",
    "tmp_df = pd.DataFrame([base,prio])\n",
    "tmp_df = tmp_df.T\n",
    "tmp_df.columns = ['base','prioritized']\n",
    "tmp_df"
   ]
  },
  {
   "cell_type": "markdown",
   "metadata": {},
   "source": [
    "# Model output and Persistence"
   ]
  },
  {
   "cell_type": "code",
   "execution_count": 62,
   "metadata": {},
   "outputs": [
    {
     "data": {
      "text/plain": [
       "['hr_logreg.mdl']"
      ]
     },
     "execution_count": 62,
     "metadata": {},
     "output_type": "execute_result"
    }
   ],
   "source": [
    "# pickle can also be a good alternative to joblib \n",
    "\n",
    "# how to save and load model\n",
    "finalmodel = logreg2\n",
    "filename = 'hr_logreg.mdl'\n",
    "dump(finalmodel, filename)\n",
    "\n",
    "# a file named hr_logreg.mdl would be created which stores the \"trained\" logistic regression model"
   ]
  },
  {
   "cell_type": "code",
   "execution_count": 63,
   "metadata": {},
   "outputs": [
    {
     "data": {
      "text/plain": [
       "array([[ 0.30675497,  0.23594785, -0.36886775, -0.63209617,  0.29496646,\n",
       "        -0.00290518, -0.33422454,  0.41463135, -0.75176107, -0.51938396,\n",
       "        -0.17627827,  0.22214086, -0.23055903,  0.83899032,  1.12016576,\n",
       "        -0.46636513, -0.84212686, -0.9877938 ]])"
      ]
     },
     "execution_count": 63,
     "metadata": {},
     "output_type": "execute_result"
    }
   ],
   "source": [
    "# how to load the model\n",
    "savedmodel = load(filename) \n",
    "savedmodel.coef_\n",
    "\n",
    "# the \"trained\" logistic regression has now been loaded and saved into the saved model.\n",
    "# printing the coef_ variable shows that the model already has been trained"
   ]
  },
  {
   "cell_type": "code",
   "execution_count": 64,
   "metadata": {},
   "outputs": [
    {
     "data": {
      "text/plain": [
       "array([0., 1., 0., ..., 1., 0., 0.])"
      ]
     },
     "execution_count": 64,
     "metadata": {},
     "output_type": "execute_result"
    }
   ],
   "source": [
    "# Let's try to predict using our test set\n",
    "savedmodel.predict(X_test[prioritized_features])"
   ]
  },
  {
   "cell_type": "markdown",
   "metadata": {},
   "source": [
    "# What's Next?"
   ]
  },
  {
   "cell_type": "markdown",
   "metadata": {},
   "source": [
    "Feel free to explore the basics of Python and development for data science using the following repositories:\n",
    " - https://github.com/ogbinar/python101\n",
    " - https://github.com/ogbinar/python_ds\n",
    " - https://github.com/ogbinar/python_ml\n",
    " - https://github.com/ogbinar/python_deployment"
   ]
  }
 ],
 "metadata": {
  "kernelspec": {
   "display_name": "Python 3",
   "language": "python",
   "name": "python3"
  },
  "language_info": {
   "codemirror_mode": {
    "name": "ipython",
    "version": 3
   },
   "file_extension": ".py",
   "mimetype": "text/x-python",
   "name": "python",
   "nbconvert_exporter": "python",
   "pygments_lexer": "ipython3",
   "version": "3.8.3"
  }
 },
 "nbformat": 4,
 "nbformat_minor": 4
}
